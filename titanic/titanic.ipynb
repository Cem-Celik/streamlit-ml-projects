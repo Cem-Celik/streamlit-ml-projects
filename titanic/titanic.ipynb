{
 "cells": [
  {
   "cell_type": "markdown",
   "metadata": {},
   "source": [
    "# Titanic Survive Classification"
   ]
  },
  {
   "cell_type": "code",
   "execution_count": 1,
   "metadata": {},
   "outputs": [],
   "source": [
    "import pandas as pd\n",
    "import numpy as np\n",
    "\n",
    "import warnings\n",
    "warnings.filterwarnings(action=\"ignore\")\n",
    "\n",
    "import seaborn as sns\n",
    "import matplotlib.pyplot as plt"
   ]
  },
  {
   "cell_type": "code",
   "execution_count": 2,
   "metadata": {},
   "outputs": [
    {
     "data": {
      "text/html": [
       "<div>\n",
       "<style scoped>\n",
       "    .dataframe tbody tr th:only-of-type {\n",
       "        vertical-align: middle;\n",
       "    }\n",
       "\n",
       "    .dataframe tbody tr th {\n",
       "        vertical-align: top;\n",
       "    }\n",
       "\n",
       "    .dataframe thead th {\n",
       "        text-align: right;\n",
       "    }\n",
       "</style>\n",
       "<table border=\"1\" class=\"dataframe\">\n",
       "  <thead>\n",
       "    <tr style=\"text-align: right;\">\n",
       "      <th></th>\n",
       "      <th>PassengerId</th>\n",
       "      <th>Survived</th>\n",
       "      <th>Pclass</th>\n",
       "      <th>Name</th>\n",
       "      <th>Sex</th>\n",
       "      <th>Age</th>\n",
       "      <th>SibSp</th>\n",
       "      <th>Parch</th>\n",
       "      <th>Ticket</th>\n",
       "      <th>Fare</th>\n",
       "      <th>Cabin</th>\n",
       "      <th>Embarked</th>\n",
       "    </tr>\n",
       "  </thead>\n",
       "  <tbody>\n",
       "    <tr>\n",
       "      <th>0</th>\n",
       "      <td>1</td>\n",
       "      <td>0</td>\n",
       "      <td>3</td>\n",
       "      <td>Braund, Mr. Owen Harris</td>\n",
       "      <td>male</td>\n",
       "      <td>22.0</td>\n",
       "      <td>1</td>\n",
       "      <td>0</td>\n",
       "      <td>A/5 21171</td>\n",
       "      <td>7.2500</td>\n",
       "      <td>NaN</td>\n",
       "      <td>S</td>\n",
       "    </tr>\n",
       "    <tr>\n",
       "      <th>1</th>\n",
       "      <td>2</td>\n",
       "      <td>1</td>\n",
       "      <td>1</td>\n",
       "      <td>Cumings, Mrs. John Bradley (Florence Briggs Th...</td>\n",
       "      <td>female</td>\n",
       "      <td>38.0</td>\n",
       "      <td>1</td>\n",
       "      <td>0</td>\n",
       "      <td>PC 17599</td>\n",
       "      <td>71.2833</td>\n",
       "      <td>C85</td>\n",
       "      <td>C</td>\n",
       "    </tr>\n",
       "    <tr>\n",
       "      <th>2</th>\n",
       "      <td>3</td>\n",
       "      <td>1</td>\n",
       "      <td>3</td>\n",
       "      <td>Heikkinen, Miss. Laina</td>\n",
       "      <td>female</td>\n",
       "      <td>26.0</td>\n",
       "      <td>0</td>\n",
       "      <td>0</td>\n",
       "      <td>STON/O2. 3101282</td>\n",
       "      <td>7.9250</td>\n",
       "      <td>NaN</td>\n",
       "      <td>S</td>\n",
       "    </tr>\n",
       "    <tr>\n",
       "      <th>3</th>\n",
       "      <td>4</td>\n",
       "      <td>1</td>\n",
       "      <td>1</td>\n",
       "      <td>Futrelle, Mrs. Jacques Heath (Lily May Peel)</td>\n",
       "      <td>female</td>\n",
       "      <td>35.0</td>\n",
       "      <td>1</td>\n",
       "      <td>0</td>\n",
       "      <td>113803</td>\n",
       "      <td>53.1000</td>\n",
       "      <td>C123</td>\n",
       "      <td>S</td>\n",
       "    </tr>\n",
       "    <tr>\n",
       "      <th>4</th>\n",
       "      <td>5</td>\n",
       "      <td>0</td>\n",
       "      <td>3</td>\n",
       "      <td>Allen, Mr. William Henry</td>\n",
       "      <td>male</td>\n",
       "      <td>35.0</td>\n",
       "      <td>0</td>\n",
       "      <td>0</td>\n",
       "      <td>373450</td>\n",
       "      <td>8.0500</td>\n",
       "      <td>NaN</td>\n",
       "      <td>S</td>\n",
       "    </tr>\n",
       "    <tr>\n",
       "      <th>...</th>\n",
       "      <td>...</td>\n",
       "      <td>...</td>\n",
       "      <td>...</td>\n",
       "      <td>...</td>\n",
       "      <td>...</td>\n",
       "      <td>...</td>\n",
       "      <td>...</td>\n",
       "      <td>...</td>\n",
       "      <td>...</td>\n",
       "      <td>...</td>\n",
       "      <td>...</td>\n",
       "      <td>...</td>\n",
       "    </tr>\n",
       "    <tr>\n",
       "      <th>886</th>\n",
       "      <td>887</td>\n",
       "      <td>0</td>\n",
       "      <td>2</td>\n",
       "      <td>Montvila, Rev. Juozas</td>\n",
       "      <td>male</td>\n",
       "      <td>27.0</td>\n",
       "      <td>0</td>\n",
       "      <td>0</td>\n",
       "      <td>211536</td>\n",
       "      <td>13.0000</td>\n",
       "      <td>NaN</td>\n",
       "      <td>S</td>\n",
       "    </tr>\n",
       "    <tr>\n",
       "      <th>887</th>\n",
       "      <td>888</td>\n",
       "      <td>1</td>\n",
       "      <td>1</td>\n",
       "      <td>Graham, Miss. Margaret Edith</td>\n",
       "      <td>female</td>\n",
       "      <td>19.0</td>\n",
       "      <td>0</td>\n",
       "      <td>0</td>\n",
       "      <td>112053</td>\n",
       "      <td>30.0000</td>\n",
       "      <td>B42</td>\n",
       "      <td>S</td>\n",
       "    </tr>\n",
       "    <tr>\n",
       "      <th>888</th>\n",
       "      <td>889</td>\n",
       "      <td>0</td>\n",
       "      <td>3</td>\n",
       "      <td>Johnston, Miss. Catherine Helen \"Carrie\"</td>\n",
       "      <td>female</td>\n",
       "      <td>NaN</td>\n",
       "      <td>1</td>\n",
       "      <td>2</td>\n",
       "      <td>W./C. 6607</td>\n",
       "      <td>23.4500</td>\n",
       "      <td>NaN</td>\n",
       "      <td>S</td>\n",
       "    </tr>\n",
       "    <tr>\n",
       "      <th>889</th>\n",
       "      <td>890</td>\n",
       "      <td>1</td>\n",
       "      <td>1</td>\n",
       "      <td>Behr, Mr. Karl Howell</td>\n",
       "      <td>male</td>\n",
       "      <td>26.0</td>\n",
       "      <td>0</td>\n",
       "      <td>0</td>\n",
       "      <td>111369</td>\n",
       "      <td>30.0000</td>\n",
       "      <td>C148</td>\n",
       "      <td>C</td>\n",
       "    </tr>\n",
       "    <tr>\n",
       "      <th>890</th>\n",
       "      <td>891</td>\n",
       "      <td>0</td>\n",
       "      <td>3</td>\n",
       "      <td>Dooley, Mr. Patrick</td>\n",
       "      <td>male</td>\n",
       "      <td>32.0</td>\n",
       "      <td>0</td>\n",
       "      <td>0</td>\n",
       "      <td>370376</td>\n",
       "      <td>7.7500</td>\n",
       "      <td>NaN</td>\n",
       "      <td>Q</td>\n",
       "    </tr>\n",
       "  </tbody>\n",
       "</table>\n",
       "<p>891 rows × 12 columns</p>\n",
       "</div>"
      ],
      "text/plain": [
       "     PassengerId  Survived  Pclass  \\\n",
       "0              1         0       3   \n",
       "1              2         1       1   \n",
       "2              3         1       3   \n",
       "3              4         1       1   \n",
       "4              5         0       3   \n",
       "..           ...       ...     ...   \n",
       "886          887         0       2   \n",
       "887          888         1       1   \n",
       "888          889         0       3   \n",
       "889          890         1       1   \n",
       "890          891         0       3   \n",
       "\n",
       "                                                  Name     Sex   Age  SibSp  \\\n",
       "0                              Braund, Mr. Owen Harris    male  22.0      1   \n",
       "1    Cumings, Mrs. John Bradley (Florence Briggs Th...  female  38.0      1   \n",
       "2                               Heikkinen, Miss. Laina  female  26.0      0   \n",
       "3         Futrelle, Mrs. Jacques Heath (Lily May Peel)  female  35.0      1   \n",
       "4                             Allen, Mr. William Henry    male  35.0      0   \n",
       "..                                                 ...     ...   ...    ...   \n",
       "886                              Montvila, Rev. Juozas    male  27.0      0   \n",
       "887                       Graham, Miss. Margaret Edith  female  19.0      0   \n",
       "888           Johnston, Miss. Catherine Helen \"Carrie\"  female   NaN      1   \n",
       "889                              Behr, Mr. Karl Howell    male  26.0      0   \n",
       "890                                Dooley, Mr. Patrick    male  32.0      0   \n",
       "\n",
       "     Parch            Ticket     Fare Cabin Embarked  \n",
       "0        0         A/5 21171   7.2500   NaN        S  \n",
       "1        0          PC 17599  71.2833   C85        C  \n",
       "2        0  STON/O2. 3101282   7.9250   NaN        S  \n",
       "3        0            113803  53.1000  C123        S  \n",
       "4        0            373450   8.0500   NaN        S  \n",
       "..     ...               ...      ...   ...      ...  \n",
       "886      0            211536  13.0000   NaN        S  \n",
       "887      0            112053  30.0000   B42        S  \n",
       "888      2        W./C. 6607  23.4500   NaN        S  \n",
       "889      0            111369  30.0000  C148        C  \n",
       "890      0            370376   7.7500   NaN        Q  \n",
       "\n",
       "[891 rows x 12 columns]"
      ]
     },
     "execution_count": 2,
     "metadata": {},
     "output_type": "execute_result"
    }
   ],
   "source": [
    "titanic = pd.read_csv(\"data/titanic.csv\")\n",
    "titanic"
   ]
  },
  {
   "cell_type": "code",
   "execution_count": 3,
   "metadata": {},
   "outputs": [
    {
     "data": {
      "text/plain": [
       "PassengerId     0.000000\n",
       "Survived        0.000000\n",
       "Pclass          0.000000\n",
       "Name            0.000000\n",
       "Sex             0.000000\n",
       "Age            19.865320\n",
       "SibSp           0.000000\n",
       "Parch           0.000000\n",
       "Ticket          0.000000\n",
       "Fare            0.000000\n",
       "Cabin          77.104377\n",
       "Embarked        0.224467\n",
       "dtype: float64"
      ]
     },
     "execution_count": 3,
     "metadata": {},
     "output_type": "execute_result"
    }
   ],
   "source": [
    "titanic.isnull().sum()*100/titanic.shape[0]"
   ]
  },
  {
   "cell_type": "code",
   "execution_count": 4,
   "metadata": {},
   "outputs": [],
   "source": [
    "lst = []\n",
    "for i in range(titanic.shape[0]):\n",
    "    txt = titanic.Name.iloc[i]\n",
    "    arr = txt.split(\",\")\n",
    "    lst.append(arr[0])\n",
    "    \n",
    "titanic[\"family_name\"] = lst"
   ]
  },
  {
   "cell_type": "code",
   "execution_count": 5,
   "metadata": {},
   "outputs": [
    {
     "data": {
      "text/plain": [
       "5              Moran\n",
       "17          Williams\n",
       "19        Masselmani\n",
       "26              Emir\n",
       "28           O'Dwyer\n",
       "           ...      \n",
       "859             Razi\n",
       "863             Sage\n",
       "868    van Melkebeke\n",
       "878           Laleff\n",
       "888         Johnston\n",
       "Name: family_name, Length: 177, dtype: object"
      ]
     },
     "execution_count": 5,
     "metadata": {},
     "output_type": "execute_result"
    }
   ],
   "source": [
    "titanic.family_name[titanic.Age.isnull()]"
   ]
  },
  {
   "cell_type": "code",
   "execution_count": 6,
   "metadata": {},
   "outputs": [
    {
     "data": {
      "text/plain": [
       "29.69911764705882"
      ]
     },
     "execution_count": 6,
     "metadata": {},
     "output_type": "execute_result"
    }
   ],
   "source": [
    "titanic.Age.mean()"
   ]
  },
  {
   "cell_type": "code",
   "execution_count": 7,
   "metadata": {},
   "outputs": [
    {
     "data": {
      "text/html": [
       "<div>\n",
       "<style scoped>\n",
       "    .dataframe tbody tr th:only-of-type {\n",
       "        vertical-align: middle;\n",
       "    }\n",
       "\n",
       "    .dataframe tbody tr th {\n",
       "        vertical-align: top;\n",
       "    }\n",
       "\n",
       "    .dataframe thead th {\n",
       "        text-align: right;\n",
       "    }\n",
       "</style>\n",
       "<table border=\"1\" class=\"dataframe\">\n",
       "  <thead>\n",
       "    <tr style=\"text-align: right;\">\n",
       "      <th></th>\n",
       "      <th>Name</th>\n",
       "      <th>Age</th>\n",
       "    </tr>\n",
       "  </thead>\n",
       "  <tbody>\n",
       "    <tr>\n",
       "      <th>140</th>\n",
       "      <td>Boulos, Mrs. Joseph (Sultana)</td>\n",
       "      <td>NaN</td>\n",
       "    </tr>\n",
       "    <tr>\n",
       "      <th>598</th>\n",
       "      <td>Boulos, Mr. Hanna</td>\n",
       "      <td>NaN</td>\n",
       "    </tr>\n",
       "    <tr>\n",
       "      <th>852</th>\n",
       "      <td>Boulos, Miss. Nourelain</td>\n",
       "      <td>9.0</td>\n",
       "    </tr>\n",
       "  </tbody>\n",
       "</table>\n",
       "</div>"
      ],
      "text/plain": [
       "                              Name  Age\n",
       "140  Boulos, Mrs. Joseph (Sultana)  NaN\n",
       "598              Boulos, Mr. Hanna  NaN\n",
       "852        Boulos, Miss. Nourelain  9.0"
      ]
     },
     "execution_count": 7,
     "metadata": {},
     "output_type": "execute_result"
    }
   ],
   "source": [
    "titanic[[\"Name\",\"Age\"]][titanic.family_name == \"Boulos\"]"
   ]
  },
  {
   "cell_type": "code",
   "execution_count": 8,
   "metadata": {},
   "outputs": [],
   "source": [
    "result_sum = 0\n",
    "lst = []\n",
    "for i,indis in zip(titanic.family_name[titanic.Age.isnull()],titanic.family_name[titanic.Age.isnull()].index):\n",
    "    dummy = titanic[[\"Name\",\"Age\"]][titanic.family_name == i]\n",
    "    if dummy.Age.isnull().sum() == len(dummy):\n",
    "        result_sum = result_sum + 1\n",
    "        lst.append(indis)"
   ]
  },
  {
   "cell_type": "code",
   "execution_count": 9,
   "metadata": {},
   "outputs": [],
   "source": [
    "for i in lst:\n",
    "    titanic.Age.iloc[i] = titanic.Age.mean()"
   ]
  },
  {
   "cell_type": "code",
   "execution_count": 10,
   "metadata": {},
   "outputs": [
    {
     "data": {
      "text/plain": [
       "154"
      ]
     },
     "execution_count": 10,
     "metadata": {},
     "output_type": "execute_result"
    }
   ],
   "source": [
    "result_sum"
   ]
  },
  {
   "cell_type": "code",
   "execution_count": 11,
   "metadata": {},
   "outputs": [],
   "source": [
    "titanic.Age.fillna(titanic.Age.mean(),inplace = True)"
   ]
  },
  {
   "cell_type": "code",
   "execution_count": 12,
   "metadata": {},
   "outputs": [
    {
     "data": {
      "text/html": [
       "<div>\n",
       "<style scoped>\n",
       "    .dataframe tbody tr th:only-of-type {\n",
       "        vertical-align: middle;\n",
       "    }\n",
       "\n",
       "    .dataframe tbody tr th {\n",
       "        vertical-align: top;\n",
       "    }\n",
       "\n",
       "    .dataframe thead th {\n",
       "        text-align: right;\n",
       "    }\n",
       "</style>\n",
       "<table border=\"1\" class=\"dataframe\">\n",
       "  <thead>\n",
       "    <tr style=\"text-align: right;\">\n",
       "      <th></th>\n",
       "      <th>PassengerId</th>\n",
       "      <th>Survived</th>\n",
       "      <th>Pclass</th>\n",
       "      <th>Name</th>\n",
       "      <th>Sex</th>\n",
       "      <th>Age</th>\n",
       "      <th>SibSp</th>\n",
       "      <th>Parch</th>\n",
       "      <th>Ticket</th>\n",
       "      <th>Fare</th>\n",
       "      <th>Cabin</th>\n",
       "      <th>Embarked</th>\n",
       "      <th>family_name</th>\n",
       "      <th>is_female</th>\n",
       "      <th>is_male</th>\n",
       "    </tr>\n",
       "  </thead>\n",
       "  <tbody>\n",
       "    <tr>\n",
       "      <th>0</th>\n",
       "      <td>1</td>\n",
       "      <td>0</td>\n",
       "      <td>3</td>\n",
       "      <td>Braund, Mr. Owen Harris</td>\n",
       "      <td>male</td>\n",
       "      <td>22.000000</td>\n",
       "      <td>1</td>\n",
       "      <td>0</td>\n",
       "      <td>A/5 21171</td>\n",
       "      <td>7.2500</td>\n",
       "      <td>NaN</td>\n",
       "      <td>S</td>\n",
       "      <td>Braund</td>\n",
       "      <td>0</td>\n",
       "      <td>1</td>\n",
       "    </tr>\n",
       "    <tr>\n",
       "      <th>1</th>\n",
       "      <td>2</td>\n",
       "      <td>1</td>\n",
       "      <td>1</td>\n",
       "      <td>Cumings, Mrs. John Bradley (Florence Briggs Th...</td>\n",
       "      <td>female</td>\n",
       "      <td>38.000000</td>\n",
       "      <td>1</td>\n",
       "      <td>0</td>\n",
       "      <td>PC 17599</td>\n",
       "      <td>71.2833</td>\n",
       "      <td>C85</td>\n",
       "      <td>C</td>\n",
       "      <td>Cumings</td>\n",
       "      <td>1</td>\n",
       "      <td>0</td>\n",
       "    </tr>\n",
       "    <tr>\n",
       "      <th>2</th>\n",
       "      <td>3</td>\n",
       "      <td>1</td>\n",
       "      <td>3</td>\n",
       "      <td>Heikkinen, Miss. Laina</td>\n",
       "      <td>female</td>\n",
       "      <td>26.000000</td>\n",
       "      <td>0</td>\n",
       "      <td>0</td>\n",
       "      <td>STON/O2. 3101282</td>\n",
       "      <td>7.9250</td>\n",
       "      <td>NaN</td>\n",
       "      <td>S</td>\n",
       "      <td>Heikkinen</td>\n",
       "      <td>1</td>\n",
       "      <td>0</td>\n",
       "    </tr>\n",
       "    <tr>\n",
       "      <th>3</th>\n",
       "      <td>4</td>\n",
       "      <td>1</td>\n",
       "      <td>1</td>\n",
       "      <td>Futrelle, Mrs. Jacques Heath (Lily May Peel)</td>\n",
       "      <td>female</td>\n",
       "      <td>35.000000</td>\n",
       "      <td>1</td>\n",
       "      <td>0</td>\n",
       "      <td>113803</td>\n",
       "      <td>53.1000</td>\n",
       "      <td>C123</td>\n",
       "      <td>S</td>\n",
       "      <td>Futrelle</td>\n",
       "      <td>1</td>\n",
       "      <td>0</td>\n",
       "    </tr>\n",
       "    <tr>\n",
       "      <th>4</th>\n",
       "      <td>5</td>\n",
       "      <td>0</td>\n",
       "      <td>3</td>\n",
       "      <td>Allen, Mr. William Henry</td>\n",
       "      <td>male</td>\n",
       "      <td>35.000000</td>\n",
       "      <td>0</td>\n",
       "      <td>0</td>\n",
       "      <td>373450</td>\n",
       "      <td>8.0500</td>\n",
       "      <td>NaN</td>\n",
       "      <td>S</td>\n",
       "      <td>Allen</td>\n",
       "      <td>0</td>\n",
       "      <td>1</td>\n",
       "    </tr>\n",
       "    <tr>\n",
       "      <th>...</th>\n",
       "      <td>...</td>\n",
       "      <td>...</td>\n",
       "      <td>...</td>\n",
       "      <td>...</td>\n",
       "      <td>...</td>\n",
       "      <td>...</td>\n",
       "      <td>...</td>\n",
       "      <td>...</td>\n",
       "      <td>...</td>\n",
       "      <td>...</td>\n",
       "      <td>...</td>\n",
       "      <td>...</td>\n",
       "      <td>...</td>\n",
       "      <td>...</td>\n",
       "      <td>...</td>\n",
       "    </tr>\n",
       "    <tr>\n",
       "      <th>886</th>\n",
       "      <td>887</td>\n",
       "      <td>0</td>\n",
       "      <td>2</td>\n",
       "      <td>Montvila, Rev. Juozas</td>\n",
       "      <td>male</td>\n",
       "      <td>27.000000</td>\n",
       "      <td>0</td>\n",
       "      <td>0</td>\n",
       "      <td>211536</td>\n",
       "      <td>13.0000</td>\n",
       "      <td>NaN</td>\n",
       "      <td>S</td>\n",
       "      <td>Montvila</td>\n",
       "      <td>0</td>\n",
       "      <td>1</td>\n",
       "    </tr>\n",
       "    <tr>\n",
       "      <th>887</th>\n",
       "      <td>888</td>\n",
       "      <td>1</td>\n",
       "      <td>1</td>\n",
       "      <td>Graham, Miss. Margaret Edith</td>\n",
       "      <td>female</td>\n",
       "      <td>19.000000</td>\n",
       "      <td>0</td>\n",
       "      <td>0</td>\n",
       "      <td>112053</td>\n",
       "      <td>30.0000</td>\n",
       "      <td>B42</td>\n",
       "      <td>S</td>\n",
       "      <td>Graham</td>\n",
       "      <td>1</td>\n",
       "      <td>0</td>\n",
       "    </tr>\n",
       "    <tr>\n",
       "      <th>888</th>\n",
       "      <td>889</td>\n",
       "      <td>0</td>\n",
       "      <td>3</td>\n",
       "      <td>Johnston, Miss. Catherine Helen \"Carrie\"</td>\n",
       "      <td>female</td>\n",
       "      <td>29.699118</td>\n",
       "      <td>1</td>\n",
       "      <td>2</td>\n",
       "      <td>W./C. 6607</td>\n",
       "      <td>23.4500</td>\n",
       "      <td>NaN</td>\n",
       "      <td>S</td>\n",
       "      <td>Johnston</td>\n",
       "      <td>1</td>\n",
       "      <td>0</td>\n",
       "    </tr>\n",
       "    <tr>\n",
       "      <th>889</th>\n",
       "      <td>890</td>\n",
       "      <td>1</td>\n",
       "      <td>1</td>\n",
       "      <td>Behr, Mr. Karl Howell</td>\n",
       "      <td>male</td>\n",
       "      <td>26.000000</td>\n",
       "      <td>0</td>\n",
       "      <td>0</td>\n",
       "      <td>111369</td>\n",
       "      <td>30.0000</td>\n",
       "      <td>C148</td>\n",
       "      <td>C</td>\n",
       "      <td>Behr</td>\n",
       "      <td>0</td>\n",
       "      <td>1</td>\n",
       "    </tr>\n",
       "    <tr>\n",
       "      <th>890</th>\n",
       "      <td>891</td>\n",
       "      <td>0</td>\n",
       "      <td>3</td>\n",
       "      <td>Dooley, Mr. Patrick</td>\n",
       "      <td>male</td>\n",
       "      <td>32.000000</td>\n",
       "      <td>0</td>\n",
       "      <td>0</td>\n",
       "      <td>370376</td>\n",
       "      <td>7.7500</td>\n",
       "      <td>NaN</td>\n",
       "      <td>Q</td>\n",
       "      <td>Dooley</td>\n",
       "      <td>0</td>\n",
       "      <td>1</td>\n",
       "    </tr>\n",
       "  </tbody>\n",
       "</table>\n",
       "<p>891 rows × 15 columns</p>\n",
       "</div>"
      ],
      "text/plain": [
       "     PassengerId  Survived  Pclass  \\\n",
       "0              1         0       3   \n",
       "1              2         1       1   \n",
       "2              3         1       3   \n",
       "3              4         1       1   \n",
       "4              5         0       3   \n",
       "..           ...       ...     ...   \n",
       "886          887         0       2   \n",
       "887          888         1       1   \n",
       "888          889         0       3   \n",
       "889          890         1       1   \n",
       "890          891         0       3   \n",
       "\n",
       "                                                  Name     Sex        Age  \\\n",
       "0                              Braund, Mr. Owen Harris    male  22.000000   \n",
       "1    Cumings, Mrs. John Bradley (Florence Briggs Th...  female  38.000000   \n",
       "2                               Heikkinen, Miss. Laina  female  26.000000   \n",
       "3         Futrelle, Mrs. Jacques Heath (Lily May Peel)  female  35.000000   \n",
       "4                             Allen, Mr. William Henry    male  35.000000   \n",
       "..                                                 ...     ...        ...   \n",
       "886                              Montvila, Rev. Juozas    male  27.000000   \n",
       "887                       Graham, Miss. Margaret Edith  female  19.000000   \n",
       "888           Johnston, Miss. Catherine Helen \"Carrie\"  female  29.699118   \n",
       "889                              Behr, Mr. Karl Howell    male  26.000000   \n",
       "890                                Dooley, Mr. Patrick    male  32.000000   \n",
       "\n",
       "     SibSp  Parch            Ticket     Fare Cabin Embarked family_name  \\\n",
       "0        1      0         A/5 21171   7.2500   NaN        S      Braund   \n",
       "1        1      0          PC 17599  71.2833   C85        C     Cumings   \n",
       "2        0      0  STON/O2. 3101282   7.9250   NaN        S   Heikkinen   \n",
       "3        1      0            113803  53.1000  C123        S    Futrelle   \n",
       "4        0      0            373450   8.0500   NaN        S       Allen   \n",
       "..     ...    ...               ...      ...   ...      ...         ...   \n",
       "886      0      0            211536  13.0000   NaN        S    Montvila   \n",
       "887      0      0            112053  30.0000   B42        S      Graham   \n",
       "888      1      2        W./C. 6607  23.4500   NaN        S    Johnston   \n",
       "889      0      0            111369  30.0000  C148        C        Behr   \n",
       "890      0      0            370376   7.7500   NaN        Q      Dooley   \n",
       "\n",
       "     is_female  is_male  \n",
       "0            0        1  \n",
       "1            1        0  \n",
       "2            1        0  \n",
       "3            1        0  \n",
       "4            0        1  \n",
       "..         ...      ...  \n",
       "886          0        1  \n",
       "887          1        0  \n",
       "888          1        0  \n",
       "889          0        1  \n",
       "890          0        1  \n",
       "\n",
       "[891 rows x 15 columns]"
      ]
     },
     "execution_count": 12,
     "metadata": {},
     "output_type": "execute_result"
    }
   ],
   "source": [
    "df = pd.get_dummies(titanic.Sex)\n",
    "titanic[\"is_female\"] = df.female\n",
    "titanic[\"is_male\"] = df.male\n",
    "titanic"
   ]
  },
  {
   "cell_type": "code",
   "execution_count": 13,
   "metadata": {},
   "outputs": [],
   "source": [
    "lst =[]\n",
    "for i in range(titanic.shape[0]):\n",
    "    txt = titanic.Ticket.iloc[i]\n",
    "    if txt == \"LINE\":\n",
    "        txt = \"0\"\n",
    "    df = txt.split(\" \")\n",
    "    if len(df) == 2:\n",
    "        lst.append(df[1])\n",
    "    elif len(df)>2:\n",
    "        lst.append(df[2])\n",
    "    else:\n",
    "        lst.append(df[0])\n",
    "        \n",
    "titanic[\"new_ticket\"] = lst\n",
    "titanic[\"new_ticket\"] = titanic.new_ticket.astype('float64')"
   ]
  },
  {
   "cell_type": "code",
   "execution_count": 14,
   "metadata": {},
   "outputs": [
    {
     "data": {
      "text/plain": [
       "77.10437710437711"
      ]
     },
     "execution_count": 14,
     "metadata": {},
     "output_type": "execute_result"
    }
   ],
   "source": [
    "titanic.Cabin.isnull().sum()*100/titanic.shape[0]"
   ]
  },
  {
   "cell_type": "code",
   "execution_count": 15,
   "metadata": {},
   "outputs": [],
   "source": [
    "fam_nam_no_cabin = titanic.family_name[titanic.Cabin.isnull()].unique()"
   ]
  },
  {
   "cell_type": "code",
   "execution_count": 16,
   "metadata": {},
   "outputs": [],
   "source": [
    "#for i in fam_nam_no_cabin:\n",
    " #   df = titanic[[\"Name\",\"Cabin\"]][titanic.family_name == i]\n",
    "  #  print(df)"
   ]
  },
  {
   "cell_type": "code",
   "execution_count": 17,
   "metadata": {},
   "outputs": [],
   "source": [
    "del titanic[\"Cabin\"]"
   ]
  },
  {
   "cell_type": "code",
   "execution_count": 18,
   "metadata": {},
   "outputs": [],
   "source": [
    "df = pd.get_dummies(titanic.Embarked)"
   ]
  },
  {
   "cell_type": "code",
   "execution_count": 19,
   "metadata": {},
   "outputs": [],
   "source": [
    "titanic[\"Cherbourg\"] = df[\"C\"]\n",
    "titanic[\"Queenstown\"] = df[\"Q\"]\n",
    "titanic[\"Southampton\"] = df[\"S\"]"
   ]
  },
  {
   "cell_type": "code",
   "execution_count": 20,
   "metadata": {},
   "outputs": [
    {
     "name": "stdout",
     "output_type": "stream",
     "text": [
      "<class 'pandas.core.frame.DataFrame'>\n",
      "RangeIndex: 891 entries, 0 to 890\n",
      "Data columns (total 18 columns):\n",
      " #   Column       Non-Null Count  Dtype  \n",
      "---  ------       --------------  -----  \n",
      " 0   PassengerId  891 non-null    int64  \n",
      " 1   Survived     891 non-null    int64  \n",
      " 2   Pclass       891 non-null    int64  \n",
      " 3   Name         891 non-null    object \n",
      " 4   Sex          891 non-null    object \n",
      " 5   Age          891 non-null    float64\n",
      " 6   SibSp        891 non-null    int64  \n",
      " 7   Parch        891 non-null    int64  \n",
      " 8   Ticket       891 non-null    object \n",
      " 9   Fare         891 non-null    float64\n",
      " 10  Embarked     889 non-null    object \n",
      " 11  family_name  891 non-null    object \n",
      " 12  is_female    891 non-null    uint8  \n",
      " 13  is_male      891 non-null    uint8  \n",
      " 14  new_ticket   891 non-null    float64\n",
      " 15  Cherbourg    891 non-null    uint8  \n",
      " 16  Queenstown   891 non-null    uint8  \n",
      " 17  Southampton  891 non-null    uint8  \n",
      "dtypes: float64(3), int64(5), object(5), uint8(5)\n",
      "memory usage: 95.0+ KB\n"
     ]
    }
   ],
   "source": [
    "titanic.info()"
   ]
  },
  {
   "cell_type": "code",
   "execution_count": 21,
   "metadata": {},
   "outputs": [],
   "source": [
    "titanic_new = titanic.select_dtypes(exclude=['object'])"
   ]
  },
  {
   "cell_type": "code",
   "execution_count": 22,
   "metadata": {},
   "outputs": [],
   "source": [
    "titanic_new = titanic_new.drop(columns = \"PassengerId\")"
   ]
  },
  {
   "cell_type": "code",
   "execution_count": 23,
   "metadata": {},
   "outputs": [
    {
     "data": {
      "text/plain": [
       "<matplotlib.axes._subplots.AxesSubplot at 0x1e3364c44c0>"
      ]
     },
     "execution_count": 23,
     "metadata": {},
     "output_type": "execute_result"
    },
    {
     "data": {
      "image/png": "[encoded data removed]",
      "text/plain": [
       "<Figure size 720x360 with 2 Axes>"
      ]
     },
     "metadata": {
      "needs_background": "light"
     },
     "output_type": "display_data"
    }
   ],
   "source": [
    "plt.figure(figsize=(10,5))\n",
    "sns.heatmap(titanic_new.corr(),vmin=0,vmax=1,annot = True)"
   ]
  },
  {
   "cell_type": "code",
   "execution_count": 24,
   "metadata": {},
   "outputs": [
    {
     "data": {
      "image/png": "[encoded data removed]",
      "text/plain": [
       "<Figure size 720x360 with 1 Axes>"
      ]
     },
     "metadata": {
      "needs_background": "light"
     },
     "output_type": "display_data"
    }
   ],
   "source": [
    "plt.figure(figsize=(10,5))\n",
    "sns.countplot(titanic.Survived)\n",
    "plt.show()"
   ]
  },
  {
   "cell_type": "markdown",
   "metadata": {},
   "source": [
    "# X and Y"
   ]
  },
  {
   "cell_type": "code",
   "execution_count": 25,
   "metadata": {},
   "outputs": [],
   "source": [
    "X = titanic_new.drop(columns = \"Survived\")\n",
    "y = titanic_new.Survived"
   ]
  },
  {
   "cell_type": "markdown",
   "metadata": {},
   "source": [
    "# X_pf"
   ]
  },
  {
   "cell_type": "code",
   "execution_count": 26,
   "metadata": {},
   "outputs": [],
   "source": [
    "from sklearn.preprocessing import PolynomialFeatures,StandardScaler"
   ]
  },
  {
   "cell_type": "code",
   "execution_count": 27,
   "metadata": {},
   "outputs": [
    {
     "data": {
      "text/html": [
       "<div>\n",
       "<style scoped>\n",
       "    .dataframe tbody tr th:only-of-type {\n",
       "        vertical-align: middle;\n",
       "    }\n",
       "\n",
       "    .dataframe tbody tr th {\n",
       "        vertical-align: top;\n",
       "    }\n",
       "\n",
       "    .dataframe thead th {\n",
       "        text-align: right;\n",
       "    }\n",
       "</style>\n",
       "<table border=\"1\" class=\"dataframe\">\n",
       "  <thead>\n",
       "    <tr style=\"text-align: right;\">\n",
       "      <th></th>\n",
       "      <th>Pclass</th>\n",
       "      <th>Age</th>\n",
       "      <th>SibSp</th>\n",
       "      <th>Parch</th>\n",
       "      <th>Fare</th>\n",
       "      <th>is_female</th>\n",
       "      <th>is_male</th>\n",
       "      <th>new_ticket</th>\n",
       "      <th>Cherbourg</th>\n",
       "      <th>Queenstown</th>\n",
       "      <th>...</th>\n",
       "      <th>new_ticket^2</th>\n",
       "      <th>new_ticket Cherbourg</th>\n",
       "      <th>new_ticket Queenstown</th>\n",
       "      <th>new_ticket Southampton</th>\n",
       "      <th>Cherbourg^2</th>\n",
       "      <th>Cherbourg Queenstown</th>\n",
       "      <th>Cherbourg Southampton</th>\n",
       "      <th>Queenstown^2</th>\n",
       "      <th>Queenstown Southampton</th>\n",
       "      <th>Southampton^2</th>\n",
       "    </tr>\n",
       "  </thead>\n",
       "  <tbody>\n",
       "    <tr>\n",
       "      <th>0</th>\n",
       "      <td>3.0</td>\n",
       "      <td>22.000000</td>\n",
       "      <td>1.0</td>\n",
       "      <td>0.0</td>\n",
       "      <td>7.2500</td>\n",
       "      <td>0.0</td>\n",
       "      <td>1.0</td>\n",
       "      <td>21171.0</td>\n",
       "      <td>0.0</td>\n",
       "      <td>0.0</td>\n",
       "      <td>...</td>\n",
       "      <td>4.482112e+08</td>\n",
       "      <td>0.0</td>\n",
       "      <td>0.0</td>\n",
       "      <td>21171.0</td>\n",
       "      <td>0.0</td>\n",
       "      <td>0.0</td>\n",
       "      <td>0.0</td>\n",
       "      <td>0.0</td>\n",
       "      <td>0.0</td>\n",
       "      <td>1.0</td>\n",
       "    </tr>\n",
       "    <tr>\n",
       "      <th>1</th>\n",
       "      <td>1.0</td>\n",
       "      <td>38.000000</td>\n",
       "      <td>1.0</td>\n",
       "      <td>0.0</td>\n",
       "      <td>71.2833</td>\n",
       "      <td>1.0</td>\n",
       "      <td>0.0</td>\n",
       "      <td>17599.0</td>\n",
       "      <td>1.0</td>\n",
       "      <td>0.0</td>\n",
       "      <td>...</td>\n",
       "      <td>3.097248e+08</td>\n",
       "      <td>17599.0</td>\n",
       "      <td>0.0</td>\n",
       "      <td>0.0</td>\n",
       "      <td>1.0</td>\n",
       "      <td>0.0</td>\n",
       "      <td>0.0</td>\n",
       "      <td>0.0</td>\n",
       "      <td>0.0</td>\n",
       "      <td>0.0</td>\n",
       "    </tr>\n",
       "    <tr>\n",
       "      <th>2</th>\n",
       "      <td>3.0</td>\n",
       "      <td>26.000000</td>\n",
       "      <td>0.0</td>\n",
       "      <td>0.0</td>\n",
       "      <td>7.9250</td>\n",
       "      <td>1.0</td>\n",
       "      <td>0.0</td>\n",
       "      <td>3101282.0</td>\n",
       "      <td>0.0</td>\n",
       "      <td>0.0</td>\n",
       "      <td>...</td>\n",
       "      <td>9.617950e+12</td>\n",
       "      <td>0.0</td>\n",
       "      <td>0.0</td>\n",
       "      <td>3101282.0</td>\n",
       "      <td>0.0</td>\n",
       "      <td>0.0</td>\n",
       "      <td>0.0</td>\n",
       "      <td>0.0</td>\n",
       "      <td>0.0</td>\n",
       "      <td>1.0</td>\n",
       "    </tr>\n",
       "    <tr>\n",
       "      <th>3</th>\n",
       "      <td>1.0</td>\n",
       "      <td>35.000000</td>\n",
       "      <td>1.0</td>\n",
       "      <td>0.0</td>\n",
       "      <td>53.1000</td>\n",
       "      <td>1.0</td>\n",
       "      <td>0.0</td>\n",
       "      <td>113803.0</td>\n",
       "      <td>0.0</td>\n",
       "      <td>0.0</td>\n",
       "      <td>...</td>\n",
       "      <td>1.295112e+10</td>\n",
       "      <td>0.0</td>\n",
       "      <td>0.0</td>\n",
       "      <td>113803.0</td>\n",
       "      <td>0.0</td>\n",
       "      <td>0.0</td>\n",
       "      <td>0.0</td>\n",
       "      <td>0.0</td>\n",
       "      <td>0.0</td>\n",
       "      <td>1.0</td>\n",
       "    </tr>\n",
       "    <tr>\n",
       "      <th>4</th>\n",
       "      <td>3.0</td>\n",
       "      <td>35.000000</td>\n",
       "      <td>0.0</td>\n",
       "      <td>0.0</td>\n",
       "      <td>8.0500</td>\n",
       "      <td>0.0</td>\n",
       "      <td>1.0</td>\n",
       "      <td>373450.0</td>\n",
       "      <td>0.0</td>\n",
       "      <td>0.0</td>\n",
       "      <td>...</td>\n",
       "      <td>1.394649e+11</td>\n",
       "      <td>0.0</td>\n",
       "      <td>0.0</td>\n",
       "      <td>373450.0</td>\n",
       "      <td>0.0</td>\n",
       "      <td>0.0</td>\n",
       "      <td>0.0</td>\n",
       "      <td>0.0</td>\n",
       "      <td>0.0</td>\n",
       "      <td>1.0</td>\n",
       "    </tr>\n",
       "    <tr>\n",
       "      <th>...</th>\n",
       "      <td>...</td>\n",
       "      <td>...</td>\n",
       "      <td>...</td>\n",
       "      <td>...</td>\n",
       "      <td>...</td>\n",
       "      <td>...</td>\n",
       "      <td>...</td>\n",
       "      <td>...</td>\n",
       "      <td>...</td>\n",
       "      <td>...</td>\n",
       "      <td>...</td>\n",
       "      <td>...</td>\n",
       "      <td>...</td>\n",
       "      <td>...</td>\n",
       "      <td>...</td>\n",
       "      <td>...</td>\n",
       "      <td>...</td>\n",
       "      <td>...</td>\n",
       "      <td>...</td>\n",
       "      <td>...</td>\n",
       "      <td>...</td>\n",
       "    </tr>\n",
       "    <tr>\n",
       "      <th>886</th>\n",
       "      <td>2.0</td>\n",
       "      <td>27.000000</td>\n",
       "      <td>0.0</td>\n",
       "      <td>0.0</td>\n",
       "      <td>13.0000</td>\n",
       "      <td>0.0</td>\n",
       "      <td>1.0</td>\n",
       "      <td>211536.0</td>\n",
       "      <td>0.0</td>\n",
       "      <td>0.0</td>\n",
       "      <td>...</td>\n",
       "      <td>4.474748e+10</td>\n",
       "      <td>0.0</td>\n",
       "      <td>0.0</td>\n",
       "      <td>211536.0</td>\n",
       "      <td>0.0</td>\n",
       "      <td>0.0</td>\n",
       "      <td>0.0</td>\n",
       "      <td>0.0</td>\n",
       "      <td>0.0</td>\n",
       "      <td>1.0</td>\n",
       "    </tr>\n",
       "    <tr>\n",
       "      <th>887</th>\n",
       "      <td>1.0</td>\n",
       "      <td>19.000000</td>\n",
       "      <td>0.0</td>\n",
       "      <td>0.0</td>\n",
       "      <td>30.0000</td>\n",
       "      <td>1.0</td>\n",
       "      <td>0.0</td>\n",
       "      <td>112053.0</td>\n",
       "      <td>0.0</td>\n",
       "      <td>0.0</td>\n",
       "      <td>...</td>\n",
       "      <td>1.255587e+10</td>\n",
       "      <td>0.0</td>\n",
       "      <td>0.0</td>\n",
       "      <td>112053.0</td>\n",
       "      <td>0.0</td>\n",
       "      <td>0.0</td>\n",
       "      <td>0.0</td>\n",
       "      <td>0.0</td>\n",
       "      <td>0.0</td>\n",
       "      <td>1.0</td>\n",
       "    </tr>\n",
       "    <tr>\n",
       "      <th>888</th>\n",
       "      <td>3.0</td>\n",
       "      <td>29.699118</td>\n",
       "      <td>1.0</td>\n",
       "      <td>2.0</td>\n",
       "      <td>23.4500</td>\n",
       "      <td>1.0</td>\n",
       "      <td>0.0</td>\n",
       "      <td>6607.0</td>\n",
       "      <td>0.0</td>\n",
       "      <td>0.0</td>\n",
       "      <td>...</td>\n",
       "      <td>4.365245e+07</td>\n",
       "      <td>0.0</td>\n",
       "      <td>0.0</td>\n",
       "      <td>6607.0</td>\n",
       "      <td>0.0</td>\n",
       "      <td>0.0</td>\n",
       "      <td>0.0</td>\n",
       "      <td>0.0</td>\n",
       "      <td>0.0</td>\n",
       "      <td>1.0</td>\n",
       "    </tr>\n",
       "    <tr>\n",
       "      <th>889</th>\n",
       "      <td>1.0</td>\n",
       "      <td>26.000000</td>\n",
       "      <td>0.0</td>\n",
       "      <td>0.0</td>\n",
       "      <td>30.0000</td>\n",
       "      <td>0.0</td>\n",
       "      <td>1.0</td>\n",
       "      <td>111369.0</td>\n",
       "      <td>1.0</td>\n",
       "      <td>0.0</td>\n",
       "      <td>...</td>\n",
       "      <td>1.240305e+10</td>\n",
       "      <td>111369.0</td>\n",
       "      <td>0.0</td>\n",
       "      <td>0.0</td>\n",
       "      <td>1.0</td>\n",
       "      <td>0.0</td>\n",
       "      <td>0.0</td>\n",
       "      <td>0.0</td>\n",
       "      <td>0.0</td>\n",
       "      <td>0.0</td>\n",
       "    </tr>\n",
       "    <tr>\n",
       "      <th>890</th>\n",
       "      <td>3.0</td>\n",
       "      <td>32.000000</td>\n",
       "      <td>0.0</td>\n",
       "      <td>0.0</td>\n",
       "      <td>7.7500</td>\n",
       "      <td>0.0</td>\n",
       "      <td>1.0</td>\n",
       "      <td>370376.0</td>\n",
       "      <td>0.0</td>\n",
       "      <td>1.0</td>\n",
       "      <td>...</td>\n",
       "      <td>1.371784e+11</td>\n",
       "      <td>0.0</td>\n",
       "      <td>370376.0</td>\n",
       "      <td>0.0</td>\n",
       "      <td>0.0</td>\n",
       "      <td>0.0</td>\n",
       "      <td>0.0</td>\n",
       "      <td>1.0</td>\n",
       "      <td>0.0</td>\n",
       "      <td>0.0</td>\n",
       "    </tr>\n",
       "  </tbody>\n",
       "</table>\n",
       "<p>891 rows × 77 columns</p>\n",
       "</div>"
      ],
      "text/plain": [
       "     Pclass        Age  SibSp  Parch     Fare  is_female  is_male  new_ticket  \\\n",
       "0       3.0  22.000000    1.0    0.0   7.2500        0.0      1.0     21171.0   \n",
       "1       1.0  38.000000    1.0    0.0  71.2833        1.0      0.0     17599.0   \n",
       "2       3.0  26.000000    0.0    0.0   7.9250        1.0      0.0   3101282.0   \n",
       "3       1.0  35.000000    1.0    0.0  53.1000        1.0      0.0    113803.0   \n",
       "4       3.0  35.000000    0.0    0.0   8.0500        0.0      1.0    373450.0   \n",
       "..      ...        ...    ...    ...      ...        ...      ...         ...   \n",
       "886     2.0  27.000000    0.0    0.0  13.0000        0.0      1.0    211536.0   \n",
       "887     1.0  19.000000    0.0    0.0  30.0000        1.0      0.0    112053.0   \n",
       "888     3.0  29.699118    1.0    2.0  23.4500        1.0      0.0      6607.0   \n",
       "889     1.0  26.000000    0.0    0.0  30.0000        0.0      1.0    111369.0   \n",
       "890     3.0  32.000000    0.0    0.0   7.7500        0.0      1.0    370376.0   \n",
       "\n",
       "     Cherbourg  Queenstown  ...  new_ticket^2  new_ticket Cherbourg  \\\n",
       "0          0.0         0.0  ...  4.482112e+08                   0.0   \n",
       "1          1.0         0.0  ...  3.097248e+08               17599.0   \n",
       "2          0.0         0.0  ...  9.617950e+12                   0.0   \n",
       "3          0.0         0.0  ...  1.295112e+10                   0.0   \n",
       "4          0.0         0.0  ...  1.394649e+11                   0.0   \n",
       "..         ...         ...  ...           ...                   ...   \n",
       "886        0.0         0.0  ...  4.474748e+10                   0.0   \n",
       "887        0.0         0.0  ...  1.255587e+10                   0.0   \n",
       "888        0.0         0.0  ...  4.365245e+07                   0.0   \n",
       "889        1.0         0.0  ...  1.240305e+10              111369.0   \n",
       "890        0.0         1.0  ...  1.371784e+11                   0.0   \n",
       "\n",
       "     new_ticket Queenstown  new_ticket Southampton  Cherbourg^2  \\\n",
       "0                      0.0                 21171.0          0.0   \n",
       "1                      0.0                     0.0          1.0   \n",
       "2                      0.0               3101282.0          0.0   \n",
       "3                      0.0                113803.0          0.0   \n",
       "4                      0.0                373450.0          0.0   \n",
       "..                     ...                     ...          ...   \n",
       "886                    0.0                211536.0          0.0   \n",
       "887                    0.0                112053.0          0.0   \n",
       "888                    0.0                  6607.0          0.0   \n",
       "889                    0.0                     0.0          1.0   \n",
       "890               370376.0                     0.0          0.0   \n",
       "\n",
       "     Cherbourg Queenstown  Cherbourg Southampton  Queenstown^2  \\\n",
       "0                     0.0                    0.0           0.0   \n",
       "1                     0.0                    0.0           0.0   \n",
       "2                     0.0                    0.0           0.0   \n",
       "3                     0.0                    0.0           0.0   \n",
       "4                     0.0                    0.0           0.0   \n",
       "..                    ...                    ...           ...   \n",
       "886                   0.0                    0.0           0.0   \n",
       "887                   0.0                    0.0           0.0   \n",
       "888                   0.0                    0.0           0.0   \n",
       "889                   0.0                    0.0           0.0   \n",
       "890                   0.0                    0.0           1.0   \n",
       "\n",
       "     Queenstown Southampton  Southampton^2  \n",
       "0                       0.0            1.0  \n",
       "1                       0.0            0.0  \n",
       "2                       0.0            1.0  \n",
       "3                       0.0            1.0  \n",
       "4                       0.0            1.0  \n",
       "..                      ...            ...  \n",
       "886                     0.0            1.0  \n",
       "887                     0.0            1.0  \n",
       "888                     0.0            1.0  \n",
       "889                     0.0            0.0  \n",
       "890                     0.0            0.0  \n",
       "\n",
       "[891 rows x 77 columns]"
      ]
     },
     "execution_count": 27,
     "metadata": {},
     "output_type": "execute_result"
    }
   ],
   "source": [
    "poly = PolynomialFeatures(2)\n",
    "X_pf = pd.DataFrame(poly.fit_transform(X),columns = poly.get_feature_names(X.columns))\n",
    "X_pf.drop(columns = \"1\",inplace=True)\n",
    "X_pf"
   ]
  },
  {
   "cell_type": "code",
   "execution_count": 28,
   "metadata": {},
   "outputs": [],
   "source": [
    "dum = X_pf.copy()\n",
    "dum[\"target\"]= y\n",
    "corr = dum.corr()"
   ]
  },
  {
   "cell_type": "code",
   "execution_count": 29,
   "metadata": {},
   "outputs": [],
   "source": [
    "pf = pd.DataFrame(corr.target, index=corr.target.index)"
   ]
  },
  {
   "cell_type": "code",
   "execution_count": 30,
   "metadata": {},
   "outputs": [
    {
     "data": {
      "text/plain": [
       "<matplotlib.axes._subplots.AxesSubplot at 0x1e336f7d760>"
      ]
     },
     "execution_count": 30,
     "metadata": {},
     "output_type": "execute_result"
    },
    {
     "data": {
      "image/png": "[encoded data removed]",
      "text/plain": [
       "<Figure size 720x2160 with 2 Axes>"
      ]
     },
     "metadata": {
      "needs_background": "light"
     },
     "output_type": "display_data"
    }
   ],
   "source": [
    "plt.figure(figsize=(10,30))\n",
    "sns.heatmap(pf.dropna(),vmin=0,vmax=1,annot = True,linewidths=0.5)"
   ]
  },
  {
   "cell_type": "markdown",
   "metadata": {},
   "source": [
    "# X_pf_pca"
   ]
  },
  {
   "cell_type": "code",
   "execution_count": 31,
   "metadata": {},
   "outputs": [],
   "source": [
    "from sklearn.decomposition import PCA\n",
    "from sklearn.preprocessing import StandardScaler"
   ]
  },
  {
   "cell_type": "code",
   "execution_count": 32,
   "metadata": {},
   "outputs": [
    {
     "name": "stdout",
     "output_type": "stream",
     "text": [
      "[0.16757755 0.31358134 0.42719063 0.52626214 0.60820158 0.67156305\n",
      " 0.72432072 0.76357076 0.79000533 0.81180673]\n"
     ]
    }
   ],
   "source": [
    "X_sta = StandardScaler().fit_transform(X_pf)\n",
    "pca = PCA(n_components=10)\n",
    "pca.fit(X_sta)\n",
    "\n",
    "print(np.cumsum(pca.explained_variance_ratio_))"
   ]
  },
  {
   "cell_type": "code",
   "execution_count": 33,
   "metadata": {},
   "outputs": [
    {
     "data": {
      "text/html": [
       "<div>\n",
       "<style scoped>\n",
       "    .dataframe tbody tr th:only-of-type {\n",
       "        vertical-align: middle;\n",
       "    }\n",
       "\n",
       "    .dataframe tbody tr th {\n",
       "        vertical-align: top;\n",
       "    }\n",
       "\n",
       "    .dataframe thead th {\n",
       "        text-align: right;\n",
       "    }\n",
       "</style>\n",
       "<table border=\"1\" class=\"dataframe\">\n",
       "  <thead>\n",
       "    <tr style=\"text-align: right;\">\n",
       "      <th></th>\n",
       "      <th>0</th>\n",
       "      <th>1</th>\n",
       "      <th>2</th>\n",
       "      <th>3</th>\n",
       "      <th>4</th>\n",
       "      <th>5</th>\n",
       "      <th>6</th>\n",
       "      <th>7</th>\n",
       "      <th>8</th>\n",
       "      <th>9</th>\n",
       "    </tr>\n",
       "  </thead>\n",
       "  <tbody>\n",
       "    <tr>\n",
       "      <th>0</th>\n",
       "      <td>-2.546565</td>\n",
       "      <td>1.136920</td>\n",
       "      <td>0.694061</td>\n",
       "      <td>0.306630</td>\n",
       "      <td>-1.275497</td>\n",
       "      <td>-1.544410</td>\n",
       "      <td>-0.811600</td>\n",
       "      <td>-0.689355</td>\n",
       "      <td>0.805612</td>\n",
       "      <td>-0.085721</td>\n",
       "    </tr>\n",
       "    <tr>\n",
       "      <th>1</th>\n",
       "      <td>5.114679</td>\n",
       "      <td>-4.682781</td>\n",
       "      <td>1.106519</td>\n",
       "      <td>-0.697311</td>\n",
       "      <td>2.403572</td>\n",
       "      <td>-0.644414</td>\n",
       "      <td>-2.006519</td>\n",
       "      <td>1.519239</td>\n",
       "      <td>-0.268658</td>\n",
       "      <td>-2.628307</td>\n",
       "    </tr>\n",
       "    <tr>\n",
       "      <th>2</th>\n",
       "      <td>-0.290948</td>\n",
       "      <td>4.217389</td>\n",
       "      <td>-5.207312</td>\n",
       "      <td>-3.814283</td>\n",
       "      <td>8.189938</td>\n",
       "      <td>2.104200</td>\n",
       "      <td>-0.647236</td>\n",
       "      <td>0.553154</td>\n",
       "      <td>-0.287868</td>\n",
       "      <td>3.023635</td>\n",
       "    </tr>\n",
       "    <tr>\n",
       "      <th>3</th>\n",
       "      <td>2.902488</td>\n",
       "      <td>0.381002</td>\n",
       "      <td>-0.368270</td>\n",
       "      <td>-3.230769</td>\n",
       "      <td>-0.904603</td>\n",
       "      <td>1.160116</td>\n",
       "      <td>-2.283231</td>\n",
       "      <td>0.538684</td>\n",
       "      <td>-1.645641</td>\n",
       "      <td>0.049139</td>\n",
       "    </tr>\n",
       "    <tr>\n",
       "      <th>4</th>\n",
       "      <td>-3.621063</td>\n",
       "      <td>0.749494</td>\n",
       "      <td>0.494973</td>\n",
       "      <td>-0.619330</td>\n",
       "      <td>-0.461330</td>\n",
       "      <td>-0.184681</td>\n",
       "      <td>0.413348</td>\n",
       "      <td>0.505356</td>\n",
       "      <td>1.322733</td>\n",
       "      <td>-0.178676</td>\n",
       "    </tr>\n",
       "    <tr>\n",
       "      <th>...</th>\n",
       "      <td>...</td>\n",
       "      <td>...</td>\n",
       "      <td>...</td>\n",
       "      <td>...</td>\n",
       "      <td>...</td>\n",
       "      <td>...</td>\n",
       "      <td>...</td>\n",
       "      <td>...</td>\n",
       "      <td>...</td>\n",
       "      <td>...</td>\n",
       "    </tr>\n",
       "    <tr>\n",
       "      <th>886</th>\n",
       "      <td>-2.647273</td>\n",
       "      <td>0.094580</td>\n",
       "      <td>0.990126</td>\n",
       "      <td>-0.784336</td>\n",
       "      <td>-0.830091</td>\n",
       "      <td>-0.040772</td>\n",
       "      <td>-0.206976</td>\n",
       "      <td>-0.823877</td>\n",
       "      <td>-0.482037</td>\n",
       "      <td>-0.500635</td>\n",
       "    </tr>\n",
       "    <tr>\n",
       "      <th>887</th>\n",
       "      <td>1.740882</td>\n",
       "      <td>-0.489045</td>\n",
       "      <td>-0.895192</td>\n",
       "      <td>-3.490762</td>\n",
       "      <td>-0.545563</td>\n",
       "      <td>0.191890</td>\n",
       "      <td>-1.492867</td>\n",
       "      <td>-1.613232</td>\n",
       "      <td>-2.038681</td>\n",
       "      <td>0.068299</td>\n",
       "    </tr>\n",
       "    <tr>\n",
       "      <th>888</th>\n",
       "      <td>4.527614</td>\n",
       "      <td>3.253915</td>\n",
       "      <td>-1.684090</td>\n",
       "      <td>-2.220984</td>\n",
       "      <td>-1.425470</td>\n",
       "      <td>-1.392853</td>\n",
       "      <td>2.613140</td>\n",
       "      <td>0.522855</td>\n",
       "      <td>1.145838</td>\n",
       "      <td>0.520474</td>\n",
       "    </tr>\n",
       "    <tr>\n",
       "      <th>889</th>\n",
       "      <td>-0.035681</td>\n",
       "      <td>-4.547472</td>\n",
       "      <td>2.388456</td>\n",
       "      <td>1.370745</td>\n",
       "      <td>1.852436</td>\n",
       "      <td>-1.496256</td>\n",
       "      <td>0.179152</td>\n",
       "      <td>-0.188426</td>\n",
       "      <td>-2.634611</td>\n",
       "      <td>1.782609</td>\n",
       "    </tr>\n",
       "    <tr>\n",
       "      <th>890</th>\n",
       "      <td>-2.533805</td>\n",
       "      <td>-3.335670</td>\n",
       "      <td>-5.802839</td>\n",
       "      <td>5.141335</td>\n",
       "      <td>-1.817462</td>\n",
       "      <td>2.040679</td>\n",
       "      <td>0.533234</td>\n",
       "      <td>0.106348</td>\n",
       "      <td>0.612246</td>\n",
       "      <td>-0.067729</td>\n",
       "    </tr>\n",
       "  </tbody>\n",
       "</table>\n",
       "<p>891 rows × 10 columns</p>\n",
       "</div>"
      ],
      "text/plain": [
       "            0         1         2         3         4         5         6  \\\n",
       "0   -2.546565  1.136920  0.694061  0.306630 -1.275497 -1.544410 -0.811600   \n",
       "1    5.114679 -4.682781  1.106519 -0.697311  2.403572 -0.644414 -2.006519   \n",
       "2   -0.290948  4.217389 -5.207312 -3.814283  8.189938  2.104200 -0.647236   \n",
       "3    2.902488  0.381002 -0.368270 -3.230769 -0.904603  1.160116 -2.283231   \n",
       "4   -3.621063  0.749494  0.494973 -0.619330 -0.461330 -0.184681  0.413348   \n",
       "..        ...       ...       ...       ...       ...       ...       ...   \n",
       "886 -2.647273  0.094580  0.990126 -0.784336 -0.830091 -0.040772 -0.206976   \n",
       "887  1.740882 -0.489045 -0.895192 -3.490762 -0.545563  0.191890 -1.492867   \n",
       "888  4.527614  3.253915 -1.684090 -2.220984 -1.425470 -1.392853  2.613140   \n",
       "889 -0.035681 -4.547472  2.388456  1.370745  1.852436 -1.496256  0.179152   \n",
       "890 -2.533805 -3.335670 -5.802839  5.141335 -1.817462  2.040679  0.533234   \n",
       "\n",
       "            7         8         9  \n",
       "0   -0.689355  0.805612 -0.085721  \n",
       "1    1.519239 -0.268658 -2.628307  \n",
       "2    0.553154 -0.287868  3.023635  \n",
       "3    0.538684 -1.645641  0.049139  \n",
       "4    0.505356  1.322733 -0.178676  \n",
       "..        ...       ...       ...  \n",
       "886 -0.823877 -0.482037 -0.500635  \n",
       "887 -1.613232 -2.038681  0.068299  \n",
       "888  0.522855  1.145838  0.520474  \n",
       "889 -0.188426 -2.634611  1.782609  \n",
       "890  0.106348  0.612246 -0.067729  \n",
       "\n",
       "[891 rows x 10 columns]"
      ]
     },
     "execution_count": 33,
     "metadata": {},
     "output_type": "execute_result"
    }
   ],
   "source": [
    "X_sta = StandardScaler().fit_transform(X_pf)\n",
    "pca = PCA(n_components=10)\n",
    "X_pf_pca = pca.fit_transform(X_sta)\n",
    "X_pf_pca = pd.DataFrame(X_pf_pca)\n",
    "X_pf_pca"
   ]
  },
  {
   "cell_type": "markdown",
   "metadata": {},
   "source": [
    "# Logistic Regression"
   ]
  },
  {
   "cell_type": "markdown",
   "metadata": {},
   "source": [
    "* **One Vs. Rest**"
   ]
  },
  {
   "cell_type": "code",
   "execution_count": 34,
   "metadata": {},
   "outputs": [],
   "source": [
    "from sklearn.model_selection import GridSearchCV\n",
    "from sklearn.metrics import f1_score, make_scorer\n",
    "from sklearn.model_selection import train_test_split\n",
    "from sklearn.metrics import classification_report"
   ]
  },
  {
   "cell_type": "code",
   "execution_count": 35,
   "metadata": {},
   "outputs": [],
   "source": [
    "from sklearn.linear_model import LogisticRegression"
   ]
  },
  {
   "cell_type": "code",
   "execution_count": 36,
   "metadata": {},
   "outputs": [],
   "source": [
    "log_reg = LogisticRegression()"
   ]
  },
  {
   "cell_type": "code",
   "execution_count": 37,
   "metadata": {},
   "outputs": [],
   "source": [
    "params = {\"C\":[10**x for x in range(-5,5)], \"solver\":['newton-cg', 'lbfgs', 'liblinear', 'sag', 'saga']}"
   ]
  },
  {
   "cell_type": "code",
   "execution_count": 38,
   "metadata": {},
   "outputs": [],
   "source": [
    "grid = GridSearchCV(estimator=log_reg,param_grid=params,cv=5,return_train_score=True)"
   ]
  },
  {
   "cell_type": "code",
   "execution_count": 39,
   "metadata": {},
   "outputs": [
    {
     "data": {
      "text/plain": [
       "GridSearchCV(cv=5, estimator=LogisticRegression(),\n",
       "             param_grid={'C': [1e-05, 0.0001, 0.001, 0.01, 0.1, 1, 10, 100,\n",
       "                               1000, 10000],\n",
       "                         'solver': ['newton-cg', 'lbfgs', 'liblinear', 'sag',\n",
       "                                    'saga']},\n",
       "             return_train_score=True)"
      ]
     },
     "execution_count": 39,
     "metadata": {},
     "output_type": "execute_result"
    }
   ],
   "source": [
    "grid.fit(X,y)"
   ]
  },
  {
   "cell_type": "code",
   "execution_count": 40,
   "metadata": {},
   "outputs": [
    {
     "data": {
      "text/html": [
       "<div>\n",
       "<style scoped>\n",
       "    .dataframe tbody tr th:only-of-type {\n",
       "        vertical-align: middle;\n",
       "    }\n",
       "\n",
       "    .dataframe tbody tr th {\n",
       "        vertical-align: top;\n",
       "    }\n",
       "\n",
       "    .dataframe thead th {\n",
       "        text-align: right;\n",
       "    }\n",
       "</style>\n",
       "<table border=\"1\" class=\"dataframe\">\n",
       "  <thead>\n",
       "    <tr style=\"text-align: right;\">\n",
       "      <th></th>\n",
       "      <th>params</th>\n",
       "      <th>mean_test_score</th>\n",
       "      <th>mean_train_score</th>\n",
       "      <th>sub</th>\n",
       "    </tr>\n",
       "  </thead>\n",
       "  <tbody>\n",
       "    <tr>\n",
       "      <th>7</th>\n",
       "      <td>{'C': 0.0001, 'solver': 'liblinear'}</td>\n",
       "      <td>0.684697</td>\n",
       "      <td>0.682666</td>\n",
       "      <td>-0.002030</td>\n",
       "    </tr>\n",
       "    <tr>\n",
       "      <th>5</th>\n",
       "      <td>{'C': 0.0001, 'solver': 'newton-cg'}</td>\n",
       "      <td>0.665602</td>\n",
       "      <td>0.664710</td>\n",
       "      <td>-0.000891</td>\n",
       "    </tr>\n",
       "    <tr>\n",
       "      <th>24</th>\n",
       "      <td>{'C': 0.1, 'solver': 'saga'}</td>\n",
       "      <td>0.616163</td>\n",
       "      <td>0.616162</td>\n",
       "      <td>-0.000002</td>\n",
       "    </tr>\n",
       "    <tr>\n",
       "      <th>44</th>\n",
       "      <td>{'C': 1000, 'solver': 'saga'}</td>\n",
       "      <td>0.616163</td>\n",
       "      <td>0.616162</td>\n",
       "      <td>-0.000002</td>\n",
       "    </tr>\n",
       "    <tr>\n",
       "      <th>43</th>\n",
       "      <td>{'C': 1000, 'solver': 'sag'}</td>\n",
       "      <td>0.616163</td>\n",
       "      <td>0.616162</td>\n",
       "      <td>-0.000002</td>\n",
       "    </tr>\n",
       "    <tr>\n",
       "      <th>39</th>\n",
       "      <td>{'C': 100, 'solver': 'saga'}</td>\n",
       "      <td>0.616163</td>\n",
       "      <td>0.616162</td>\n",
       "      <td>-0.000002</td>\n",
       "    </tr>\n",
       "    <tr>\n",
       "      <th>38</th>\n",
       "      <td>{'C': 100, 'solver': 'sag'}</td>\n",
       "      <td>0.616163</td>\n",
       "      <td>0.616162</td>\n",
       "      <td>-0.000002</td>\n",
       "    </tr>\n",
       "    <tr>\n",
       "      <th>34</th>\n",
       "      <td>{'C': 10, 'solver': 'saga'}</td>\n",
       "      <td>0.616163</td>\n",
       "      <td>0.616162</td>\n",
       "      <td>-0.000002</td>\n",
       "    </tr>\n",
       "    <tr>\n",
       "      <th>33</th>\n",
       "      <td>{'C': 10, 'solver': 'sag'}</td>\n",
       "      <td>0.616163</td>\n",
       "      <td>0.616162</td>\n",
       "      <td>-0.000002</td>\n",
       "    </tr>\n",
       "    <tr>\n",
       "      <th>29</th>\n",
       "      <td>{'C': 1, 'solver': 'saga'}</td>\n",
       "      <td>0.616163</td>\n",
       "      <td>0.616162</td>\n",
       "      <td>-0.000002</td>\n",
       "    </tr>\n",
       "    <tr>\n",
       "      <th>28</th>\n",
       "      <td>{'C': 1, 'solver': 'sag'}</td>\n",
       "      <td>0.616163</td>\n",
       "      <td>0.616162</td>\n",
       "      <td>-0.000002</td>\n",
       "    </tr>\n",
       "    <tr>\n",
       "      <th>48</th>\n",
       "      <td>{'C': 10000, 'solver': 'sag'}</td>\n",
       "      <td>0.616163</td>\n",
       "      <td>0.616162</td>\n",
       "      <td>-0.000002</td>\n",
       "    </tr>\n",
       "    <tr>\n",
       "      <th>23</th>\n",
       "      <td>{'C': 0.1, 'solver': 'sag'}</td>\n",
       "      <td>0.616163</td>\n",
       "      <td>0.616162</td>\n",
       "      <td>-0.000002</td>\n",
       "    </tr>\n",
       "    <tr>\n",
       "      <th>19</th>\n",
       "      <td>{'C': 0.01, 'solver': 'saga'}</td>\n",
       "      <td>0.616163</td>\n",
       "      <td>0.616162</td>\n",
       "      <td>-0.000002</td>\n",
       "    </tr>\n",
       "    <tr>\n",
       "      <th>18</th>\n",
       "      <td>{'C': 0.01, 'solver': 'sag'}</td>\n",
       "      <td>0.616163</td>\n",
       "      <td>0.616162</td>\n",
       "      <td>-0.000002</td>\n",
       "    </tr>\n",
       "    <tr>\n",
       "      <th>49</th>\n",
       "      <td>{'C': 10000, 'solver': 'saga'}</td>\n",
       "      <td>0.616163</td>\n",
       "      <td>0.616162</td>\n",
       "      <td>-0.000002</td>\n",
       "    </tr>\n",
       "    <tr>\n",
       "      <th>14</th>\n",
       "      <td>{'C': 0.001, 'solver': 'saga'}</td>\n",
       "      <td>0.616163</td>\n",
       "      <td>0.616162</td>\n",
       "      <td>-0.000002</td>\n",
       "    </tr>\n",
       "    <tr>\n",
       "      <th>13</th>\n",
       "      <td>{'C': 0.001, 'solver': 'sag'}</td>\n",
       "      <td>0.616163</td>\n",
       "      <td>0.616162</td>\n",
       "      <td>-0.000002</td>\n",
       "    </tr>\n",
       "    <tr>\n",
       "      <th>3</th>\n",
       "      <td>{'C': 1e-05, 'solver': 'sag'}</td>\n",
       "      <td>0.616163</td>\n",
       "      <td>0.616162</td>\n",
       "      <td>-0.000002</td>\n",
       "    </tr>\n",
       "    <tr>\n",
       "      <th>4</th>\n",
       "      <td>{'C': 1e-05, 'solver': 'saga'}</td>\n",
       "      <td>0.616163</td>\n",
       "      <td>0.616162</td>\n",
       "      <td>-0.000002</td>\n",
       "    </tr>\n",
       "    <tr>\n",
       "      <th>9</th>\n",
       "      <td>{'C': 0.0001, 'solver': 'saga'}</td>\n",
       "      <td>0.616163</td>\n",
       "      <td>0.616162</td>\n",
       "      <td>-0.000002</td>\n",
       "    </tr>\n",
       "    <tr>\n",
       "      <th>8</th>\n",
       "      <td>{'C': 0.0001, 'solver': 'sag'}</td>\n",
       "      <td>0.616163</td>\n",
       "      <td>0.616162</td>\n",
       "      <td>-0.000002</td>\n",
       "    </tr>\n",
       "    <tr>\n",
       "      <th>32</th>\n",
       "      <td>{'C': 10, 'solver': 'liblinear'}</td>\n",
       "      <td>0.682456</td>\n",
       "      <td>0.682947</td>\n",
       "      <td>0.000492</td>\n",
       "    </tr>\n",
       "    <tr>\n",
       "      <th>17</th>\n",
       "      <td>{'C': 0.01, 'solver': 'liblinear'}</td>\n",
       "      <td>0.682456</td>\n",
       "      <td>0.682947</td>\n",
       "      <td>0.000492</td>\n",
       "    </tr>\n",
       "    <tr>\n",
       "      <th>47</th>\n",
       "      <td>{'C': 10000, 'solver': 'liblinear'}</td>\n",
       "      <td>0.682456</td>\n",
       "      <td>0.682947</td>\n",
       "      <td>0.000492</td>\n",
       "    </tr>\n",
       "    <tr>\n",
       "      <th>22</th>\n",
       "      <td>{'C': 0.1, 'solver': 'liblinear'}</td>\n",
       "      <td>0.682456</td>\n",
       "      <td>0.682947</td>\n",
       "      <td>0.000492</td>\n",
       "    </tr>\n",
       "    <tr>\n",
       "      <th>12</th>\n",
       "      <td>{'C': 0.001, 'solver': 'liblinear'}</td>\n",
       "      <td>0.682456</td>\n",
       "      <td>0.682947</td>\n",
       "      <td>0.000492</td>\n",
       "    </tr>\n",
       "    <tr>\n",
       "      <th>42</th>\n",
       "      <td>{'C': 1000, 'solver': 'liblinear'}</td>\n",
       "      <td>0.682456</td>\n",
       "      <td>0.682947</td>\n",
       "      <td>0.000492</td>\n",
       "    </tr>\n",
       "    <tr>\n",
       "      <th>27</th>\n",
       "      <td>{'C': 1, 'solver': 'liblinear'}</td>\n",
       "      <td>0.682456</td>\n",
       "      <td>0.682947</td>\n",
       "      <td>0.000492</td>\n",
       "    </tr>\n",
       "    <tr>\n",
       "      <th>37</th>\n",
       "      <td>{'C': 100, 'solver': 'liblinear'}</td>\n",
       "      <td>0.682456</td>\n",
       "      <td>0.682947</td>\n",
       "      <td>0.000492</td>\n",
       "    </tr>\n",
       "    <tr>\n",
       "      <th>10</th>\n",
       "      <td>{'C': 0.001, 'solver': 'newton-cg'}</td>\n",
       "      <td>0.690308</td>\n",
       "      <td>0.691364</td>\n",
       "      <td>0.001056</td>\n",
       "    </tr>\n",
       "    <tr>\n",
       "      <th>2</th>\n",
       "      <td>{'C': 1e-05, 'solver': 'liblinear'}</td>\n",
       "      <td>0.689203</td>\n",
       "      <td>0.690522</td>\n",
       "      <td>0.001318</td>\n",
       "    </tr>\n",
       "    <tr>\n",
       "      <th>0</th>\n",
       "      <td>{'C': 1e-05, 'solver': 'newton-cg'}</td>\n",
       "      <td>0.660003</td>\n",
       "      <td>0.663024</td>\n",
       "      <td>0.003022</td>\n",
       "    </tr>\n",
       "    <tr>\n",
       "      <th>15</th>\n",
       "      <td>{'C': 0.01, 'solver': 'newton-cg'}</td>\n",
       "      <td>0.765514</td>\n",
       "      <td>0.768799</td>\n",
       "      <td>0.003286</td>\n",
       "    </tr>\n",
       "    <tr>\n",
       "      <th>20</th>\n",
       "      <td>{'C': 0.1, 'solver': 'newton-cg'}</td>\n",
       "      <td>0.795750</td>\n",
       "      <td>0.804995</td>\n",
       "      <td>0.009245</td>\n",
       "    </tr>\n",
       "    <tr>\n",
       "      <th>45</th>\n",
       "      <td>{'C': 10000, 'solver': 'newton-cg'}</td>\n",
       "      <td>0.789015</td>\n",
       "      <td>0.803593</td>\n",
       "      <td>0.014578</td>\n",
       "    </tr>\n",
       "    <tr>\n",
       "      <th>25</th>\n",
       "      <td>{'C': 1, 'solver': 'newton-cg'}</td>\n",
       "      <td>0.787898</td>\n",
       "      <td>0.803032</td>\n",
       "      <td>0.015134</td>\n",
       "    </tr>\n",
       "    <tr>\n",
       "      <th>35</th>\n",
       "      <td>{'C': 100, 'solver': 'newton-cg'}</td>\n",
       "      <td>0.789015</td>\n",
       "      <td>0.804154</td>\n",
       "      <td>0.015139</td>\n",
       "    </tr>\n",
       "    <tr>\n",
       "      <th>40</th>\n",
       "      <td>{'C': 1000, 'solver': 'newton-cg'}</td>\n",
       "      <td>0.789015</td>\n",
       "      <td>0.804154</td>\n",
       "      <td>0.015139</td>\n",
       "    </tr>\n",
       "    <tr>\n",
       "      <th>30</th>\n",
       "      <td>{'C': 10, 'solver': 'newton-cg'}</td>\n",
       "      <td>0.787898</td>\n",
       "      <td>0.804435</td>\n",
       "      <td>0.016537</td>\n",
       "    </tr>\n",
       "    <tr>\n",
       "      <th>6</th>\n",
       "      <td>{'C': 0.0001, 'solver': 'lbfgs'}</td>\n",
       "      <td>0.626282</td>\n",
       "      <td>0.644233</td>\n",
       "      <td>0.017951</td>\n",
       "    </tr>\n",
       "    <tr>\n",
       "      <th>11</th>\n",
       "      <td>{'C': 0.001, 'solver': 'lbfgs'}</td>\n",
       "      <td>0.625158</td>\n",
       "      <td>0.643672</td>\n",
       "      <td>0.018514</td>\n",
       "    </tr>\n",
       "    <tr>\n",
       "      <th>1</th>\n",
       "      <td>{'C': 1e-05, 'solver': 'lbfgs'}</td>\n",
       "      <td>0.631888</td>\n",
       "      <td>0.650409</td>\n",
       "      <td>0.018521</td>\n",
       "    </tr>\n",
       "    <tr>\n",
       "      <th>31</th>\n",
       "      <td>{'C': 10, 'solver': 'lbfgs'}</td>\n",
       "      <td>0.625158</td>\n",
       "      <td>0.644233</td>\n",
       "      <td>0.019075</td>\n",
       "    </tr>\n",
       "    <tr>\n",
       "      <th>46</th>\n",
       "      <td>{'C': 10000, 'solver': 'lbfgs'}</td>\n",
       "      <td>0.625158</td>\n",
       "      <td>0.644233</td>\n",
       "      <td>0.019075</td>\n",
       "    </tr>\n",
       "    <tr>\n",
       "      <th>41</th>\n",
       "      <td>{'C': 1000, 'solver': 'lbfgs'}</td>\n",
       "      <td>0.625158</td>\n",
       "      <td>0.644233</td>\n",
       "      <td>0.019075</td>\n",
       "    </tr>\n",
       "    <tr>\n",
       "      <th>26</th>\n",
       "      <td>{'C': 1, 'solver': 'lbfgs'}</td>\n",
       "      <td>0.625158</td>\n",
       "      <td>0.644233</td>\n",
       "      <td>0.019075</td>\n",
       "    </tr>\n",
       "    <tr>\n",
       "      <th>36</th>\n",
       "      <td>{'C': 100, 'solver': 'lbfgs'}</td>\n",
       "      <td>0.625158</td>\n",
       "      <td>0.644233</td>\n",
       "      <td>0.019075</td>\n",
       "    </tr>\n",
       "    <tr>\n",
       "      <th>21</th>\n",
       "      <td>{'C': 0.1, 'solver': 'lbfgs'}</td>\n",
       "      <td>0.625158</td>\n",
       "      <td>0.644233</td>\n",
       "      <td>0.019075</td>\n",
       "    </tr>\n",
       "    <tr>\n",
       "      <th>16</th>\n",
       "      <td>{'C': 0.01, 'solver': 'lbfgs'}</td>\n",
       "      <td>0.625158</td>\n",
       "      <td>0.644233</td>\n",
       "      <td>0.019075</td>\n",
       "    </tr>\n",
       "  </tbody>\n",
       "</table>\n",
       "</div>"
      ],
      "text/plain": [
       "                                  params  mean_test_score  mean_train_score  \\\n",
       "7   {'C': 0.0001, 'solver': 'liblinear'}         0.684697          0.682666   \n",
       "5   {'C': 0.0001, 'solver': 'newton-cg'}         0.665602          0.664710   \n",
       "24          {'C': 0.1, 'solver': 'saga'}         0.616163          0.616162   \n",
       "44         {'C': 1000, 'solver': 'saga'}         0.616163          0.616162   \n",
       "43          {'C': 1000, 'solver': 'sag'}         0.616163          0.616162   \n",
       "39          {'C': 100, 'solver': 'saga'}         0.616163          0.616162   \n",
       "38           {'C': 100, 'solver': 'sag'}         0.616163          0.616162   \n",
       "34           {'C': 10, 'solver': 'saga'}         0.616163          0.616162   \n",
       "33            {'C': 10, 'solver': 'sag'}         0.616163          0.616162   \n",
       "29            {'C': 1, 'solver': 'saga'}         0.616163          0.616162   \n",
       "28             {'C': 1, 'solver': 'sag'}         0.616163          0.616162   \n",
       "48         {'C': 10000, 'solver': 'sag'}         0.616163          0.616162   \n",
       "23           {'C': 0.1, 'solver': 'sag'}         0.616163          0.616162   \n",
       "19         {'C': 0.01, 'solver': 'saga'}         0.616163          0.616162   \n",
       "18          {'C': 0.01, 'solver': 'sag'}         0.616163          0.616162   \n",
       "49        {'C': 10000, 'solver': 'saga'}         0.616163          0.616162   \n",
       "14        {'C': 0.001, 'solver': 'saga'}         0.616163          0.616162   \n",
       "13         {'C': 0.001, 'solver': 'sag'}         0.616163          0.616162   \n",
       "3          {'C': 1e-05, 'solver': 'sag'}         0.616163          0.616162   \n",
       "4         {'C': 1e-05, 'solver': 'saga'}         0.616163          0.616162   \n",
       "9        {'C': 0.0001, 'solver': 'saga'}         0.616163          0.616162   \n",
       "8         {'C': 0.0001, 'solver': 'sag'}         0.616163          0.616162   \n",
       "32      {'C': 10, 'solver': 'liblinear'}         0.682456          0.682947   \n",
       "17    {'C': 0.01, 'solver': 'liblinear'}         0.682456          0.682947   \n",
       "47   {'C': 10000, 'solver': 'liblinear'}         0.682456          0.682947   \n",
       "22     {'C': 0.1, 'solver': 'liblinear'}         0.682456          0.682947   \n",
       "12   {'C': 0.001, 'solver': 'liblinear'}         0.682456          0.682947   \n",
       "42    {'C': 1000, 'solver': 'liblinear'}         0.682456          0.682947   \n",
       "27       {'C': 1, 'solver': 'liblinear'}         0.682456          0.682947   \n",
       "37     {'C': 100, 'solver': 'liblinear'}         0.682456          0.682947   \n",
       "10   {'C': 0.001, 'solver': 'newton-cg'}         0.690308          0.691364   \n",
       "2    {'C': 1e-05, 'solver': 'liblinear'}         0.689203          0.690522   \n",
       "0    {'C': 1e-05, 'solver': 'newton-cg'}         0.660003          0.663024   \n",
       "15    {'C': 0.01, 'solver': 'newton-cg'}         0.765514          0.768799   \n",
       "20     {'C': 0.1, 'solver': 'newton-cg'}         0.795750          0.804995   \n",
       "45   {'C': 10000, 'solver': 'newton-cg'}         0.789015          0.803593   \n",
       "25       {'C': 1, 'solver': 'newton-cg'}         0.787898          0.803032   \n",
       "35     {'C': 100, 'solver': 'newton-cg'}         0.789015          0.804154   \n",
       "40    {'C': 1000, 'solver': 'newton-cg'}         0.789015          0.804154   \n",
       "30      {'C': 10, 'solver': 'newton-cg'}         0.787898          0.804435   \n",
       "6       {'C': 0.0001, 'solver': 'lbfgs'}         0.626282          0.644233   \n",
       "11       {'C': 0.001, 'solver': 'lbfgs'}         0.625158          0.643672   \n",
       "1        {'C': 1e-05, 'solver': 'lbfgs'}         0.631888          0.650409   \n",
       "31          {'C': 10, 'solver': 'lbfgs'}         0.625158          0.644233   \n",
       "46       {'C': 10000, 'solver': 'lbfgs'}         0.625158          0.644233   \n",
       "41        {'C': 1000, 'solver': 'lbfgs'}         0.625158          0.644233   \n",
       "26           {'C': 1, 'solver': 'lbfgs'}         0.625158          0.644233   \n",
       "36         {'C': 100, 'solver': 'lbfgs'}         0.625158          0.644233   \n",
       "21         {'C': 0.1, 'solver': 'lbfgs'}         0.625158          0.644233   \n",
       "16        {'C': 0.01, 'solver': 'lbfgs'}         0.625158          0.644233   \n",
       "\n",
       "         sub  \n",
       "7  -0.002030  \n",
       "5  -0.000891  \n",
       "24 -0.000002  \n",
       "44 -0.000002  \n",
       "43 -0.000002  \n",
       "39 -0.000002  \n",
       "38 -0.000002  \n",
       "34 -0.000002  \n",
       "33 -0.000002  \n",
       "29 -0.000002  \n",
       "28 -0.000002  \n",
       "48 -0.000002  \n",
       "23 -0.000002  \n",
       "19 -0.000002  \n",
       "18 -0.000002  \n",
       "49 -0.000002  \n",
       "14 -0.000002  \n",
       "13 -0.000002  \n",
       "3  -0.000002  \n",
       "4  -0.000002  \n",
       "9  -0.000002  \n",
       "8  -0.000002  \n",
       "32  0.000492  \n",
       "17  0.000492  \n",
       "47  0.000492  \n",
       "22  0.000492  \n",
       "12  0.000492  \n",
       "42  0.000492  \n",
       "27  0.000492  \n",
       "37  0.000492  \n",
       "10  0.001056  \n",
       "2   0.001318  \n",
       "0   0.003022  \n",
       "15  0.003286  \n",
       "20  0.009245  \n",
       "45  0.014578  \n",
       "25  0.015134  \n",
       "35  0.015139  \n",
       "40  0.015139  \n",
       "30  0.016537  \n",
       "6   0.017951  \n",
       "11  0.018514  \n",
       "1   0.018521  \n",
       "31  0.019075  \n",
       "46  0.019075  \n",
       "41  0.019075  \n",
       "26  0.019075  \n",
       "36  0.019075  \n",
       "21  0.019075  \n",
       "16  0.019075  "
      ]
     },
     "execution_count": 40,
     "metadata": {},
     "output_type": "execute_result"
    }
   ],
   "source": [
    "df = pd.DataFrame()\n",
    "df[\"params\"] = grid.cv_results_[\"params\"]\n",
    "df[\"mean_test_score\"] = grid.cv_results_[\"mean_test_score\"]\n",
    "df[\"mean_train_score\"] = grid.cv_results_[\"mean_train_score\"]\n",
    "df[\"sub\"] = pd.DataFrame( df[\"mean_train_score\"].to_numpy()- df[\"mean_test_score\"].to_numpy())\n",
    "df.sort_values(by = \"sub\" ,ascending = True)"
   ]
  },
  {
   "cell_type": "code",
   "execution_count": 41,
   "metadata": {},
   "outputs": [],
   "source": [
    "X_train, X_test, y_train, y_test = train_test_split(X, y, test_size=0.2, random_state=42)"
   ]
  },
  {
   "cell_type": "code",
   "execution_count": 42,
   "metadata": {},
   "outputs": [
    {
     "data": {
      "text/plain": [
       "LogisticRegression(C=0.1, solver='newton-cg')"
      ]
     },
     "execution_count": 42,
     "metadata": {},
     "output_type": "execute_result"
    }
   ],
   "source": [
    "log_reg = LogisticRegression(C = 0.1, solver='newton-cg')\n",
    "log_reg.fit(X_train,y_train)"
   ]
  },
  {
   "cell_type": "code",
   "execution_count": 43,
   "metadata": {},
   "outputs": [],
   "source": [
    "pred_y_test = log_reg.predict(X_test)\n",
    "pred_y_train = log_reg.predict(X_train)"
   ]
  },
  {
   "cell_type": "code",
   "execution_count": 44,
   "metadata": {},
   "outputs": [
    {
     "name": "stdout",
     "output_type": "stream",
     "text": [
      "              precision    recall  f1-score   support\n",
      "\n",
      "           0       0.85      0.82      0.83       109\n",
      "           1       0.73      0.77      0.75        70\n",
      "\n",
      "    accuracy                           0.80       179\n",
      "   macro avg       0.79      0.79      0.79       179\n",
      "weighted avg       0.80      0.80      0.80       179\n",
      "\n"
     ]
    }
   ],
   "source": [
    "print(classification_report(pred_y_test,y_test))"
   ]
  },
  {
   "cell_type": "code",
   "execution_count": 45,
   "metadata": {},
   "outputs": [
    {
     "name": "stdout",
     "output_type": "stream",
     "text": [
      "              precision    recall  f1-score   support\n",
      "\n",
      "           0       0.87      0.82      0.85       474\n",
      "           1       0.68      0.76      0.72       238\n",
      "\n",
      "    accuracy                           0.80       712\n",
      "   macro avg       0.78      0.79      0.78       712\n",
      "weighted avg       0.81      0.80      0.80       712\n",
      "\n"
     ]
    }
   ],
   "source": [
    "print(classification_report(pred_y_train,y_train))"
   ]
  },
  {
   "cell_type": "code",
   "execution_count": 46,
   "metadata": {},
   "outputs": [],
   "source": [
    "log_reg = LogisticRegression()\n",
    "params = {\"C\":[10**x for x in range(-5,5)], \"solver\":['newton-cg', 'lbfgs', 'liblinear', 'sag', 'saga']}"
   ]
  },
  {
   "cell_type": "code",
   "execution_count": 47,
   "metadata": {},
   "outputs": [],
   "source": [
    "grid = GridSearchCV(estimator=log_reg,param_grid=params,cv=5,return_train_score=True)"
   ]
  },
  {
   "cell_type": "code",
   "execution_count": 48,
   "metadata": {},
   "outputs": [
    {
     "data": {
      "text/plain": [
       "GridSearchCV(cv=5, estimator=LogisticRegression(),\n",
       "             param_grid={'C': [1e-05, 0.0001, 0.001, 0.01, 0.1, 1, 10, 100,\n",
       "                               1000, 10000],\n",
       "                         'solver': ['newton-cg', 'lbfgs', 'liblinear', 'sag',\n",
       "                                    'saga']},\n",
       "             return_train_score=True)"
      ]
     },
     "execution_count": 48,
     "metadata": {},
     "output_type": "execute_result"
    }
   ],
   "source": [
    "grid.fit(X_pf_pca,y)"
   ]
  },
  {
   "cell_type": "code",
   "execution_count": 49,
   "metadata": {},
   "outputs": [
    {
     "data": {
      "text/html": [
       "<div>\n",
       "<style scoped>\n",
       "    .dataframe tbody tr th:only-of-type {\n",
       "        vertical-align: middle;\n",
       "    }\n",
       "\n",
       "    .dataframe tbody tr th {\n",
       "        vertical-align: top;\n",
       "    }\n",
       "\n",
       "    .dataframe thead th {\n",
       "        text-align: right;\n",
       "    }\n",
       "</style>\n",
       "<table border=\"1\" class=\"dataframe\">\n",
       "  <thead>\n",
       "    <tr style=\"text-align: right;\">\n",
       "      <th></th>\n",
       "      <th>params</th>\n",
       "      <th>mean_test_score</th>\n",
       "      <th>mean_train_score</th>\n",
       "      <th>sub</th>\n",
       "    </tr>\n",
       "  </thead>\n",
       "  <tbody>\n",
       "    <tr>\n",
       "      <th>8</th>\n",
       "      <td>{'C': 0.0001, 'solver': 'sag'}</td>\n",
       "      <td>0.622899</td>\n",
       "      <td>0.622055</td>\n",
       "      <td>-0.000843</td>\n",
       "    </tr>\n",
       "    <tr>\n",
       "      <th>9</th>\n",
       "      <td>{'C': 0.0001, 'solver': 'saga'}</td>\n",
       "      <td>0.622899</td>\n",
       "      <td>0.622055</td>\n",
       "      <td>-0.000843</td>\n",
       "    </tr>\n",
       "    <tr>\n",
       "      <th>6</th>\n",
       "      <td>{'C': 0.0001, 'solver': 'lbfgs'}</td>\n",
       "      <td>0.622899</td>\n",
       "      <td>0.622055</td>\n",
       "      <td>-0.000843</td>\n",
       "    </tr>\n",
       "    <tr>\n",
       "      <th>5</th>\n",
       "      <td>{'C': 0.0001, 'solver': 'newton-cg'}</td>\n",
       "      <td>0.622899</td>\n",
       "      <td>0.622055</td>\n",
       "      <td>-0.000843</td>\n",
       "    </tr>\n",
       "    <tr>\n",
       "      <th>0</th>\n",
       "      <td>{'C': 1e-05, 'solver': 'newton-cg'}</td>\n",
       "      <td>0.616163</td>\n",
       "      <td>0.616162</td>\n",
       "      <td>-0.000002</td>\n",
       "    </tr>\n",
       "    <tr>\n",
       "      <th>3</th>\n",
       "      <td>{'C': 1e-05, 'solver': 'sag'}</td>\n",
       "      <td>0.616163</td>\n",
       "      <td>0.616162</td>\n",
       "      <td>-0.000002</td>\n",
       "    </tr>\n",
       "    <tr>\n",
       "      <th>1</th>\n",
       "      <td>{'C': 1e-05, 'solver': 'lbfgs'}</td>\n",
       "      <td>0.616163</td>\n",
       "      <td>0.616162</td>\n",
       "      <td>-0.000002</td>\n",
       "    </tr>\n",
       "    <tr>\n",
       "      <th>4</th>\n",
       "      <td>{'C': 1e-05, 'solver': 'saga'}</td>\n",
       "      <td>0.616163</td>\n",
       "      <td>0.616162</td>\n",
       "      <td>-0.000002</td>\n",
       "    </tr>\n",
       "    <tr>\n",
       "      <th>7</th>\n",
       "      <td>{'C': 0.0001, 'solver': 'liblinear'}</td>\n",
       "      <td>0.774440</td>\n",
       "      <td>0.779180</td>\n",
       "      <td>0.004740</td>\n",
       "    </tr>\n",
       "    <tr>\n",
       "      <th>12</th>\n",
       "      <td>{'C': 0.001, 'solver': 'liblinear'}</td>\n",
       "      <td>0.778915</td>\n",
       "      <td>0.784512</td>\n",
       "      <td>0.005597</td>\n",
       "    </tr>\n",
       "    <tr>\n",
       "      <th>2</th>\n",
       "      <td>{'C': 1e-05, 'solver': 'liblinear'}</td>\n",
       "      <td>0.769945</td>\n",
       "      <td>0.775814</td>\n",
       "      <td>0.005869</td>\n",
       "    </tr>\n",
       "    <tr>\n",
       "      <th>19</th>\n",
       "      <td>{'C': 0.01, 'solver': 'saga'}</td>\n",
       "      <td>0.800220</td>\n",
       "      <td>0.806399</td>\n",
       "      <td>0.006180</td>\n",
       "    </tr>\n",
       "    <tr>\n",
       "      <th>16</th>\n",
       "      <td>{'C': 0.01, 'solver': 'lbfgs'}</td>\n",
       "      <td>0.799102</td>\n",
       "      <td>0.806399</td>\n",
       "      <td>0.007297</td>\n",
       "    </tr>\n",
       "    <tr>\n",
       "      <th>18</th>\n",
       "      <td>{'C': 0.01, 'solver': 'sag'}</td>\n",
       "      <td>0.799102</td>\n",
       "      <td>0.806399</td>\n",
       "      <td>0.007297</td>\n",
       "    </tr>\n",
       "    <tr>\n",
       "      <th>15</th>\n",
       "      <td>{'C': 0.01, 'solver': 'newton-cg'}</td>\n",
       "      <td>0.799102</td>\n",
       "      <td>0.806399</td>\n",
       "      <td>0.007297</td>\n",
       "    </tr>\n",
       "    <tr>\n",
       "      <th>17</th>\n",
       "      <td>{'C': 0.01, 'solver': 'liblinear'}</td>\n",
       "      <td>0.784527</td>\n",
       "      <td>0.796297</td>\n",
       "      <td>0.011770</td>\n",
       "    </tr>\n",
       "    <tr>\n",
       "      <th>28</th>\n",
       "      <td>{'C': 1, 'solver': 'sag'}</td>\n",
       "      <td>0.792380</td>\n",
       "      <td>0.805555</td>\n",
       "      <td>0.013176</td>\n",
       "    </tr>\n",
       "    <tr>\n",
       "      <th>29</th>\n",
       "      <td>{'C': 1, 'solver': 'saga'}</td>\n",
       "      <td>0.792380</td>\n",
       "      <td>0.805555</td>\n",
       "      <td>0.013176</td>\n",
       "    </tr>\n",
       "    <tr>\n",
       "      <th>25</th>\n",
       "      <td>{'C': 1, 'solver': 'newton-cg'}</td>\n",
       "      <td>0.792380</td>\n",
       "      <td>0.805555</td>\n",
       "      <td>0.013176</td>\n",
       "    </tr>\n",
       "    <tr>\n",
       "      <th>26</th>\n",
       "      <td>{'C': 1, 'solver': 'lbfgs'}</td>\n",
       "      <td>0.792380</td>\n",
       "      <td>0.805555</td>\n",
       "      <td>0.013176</td>\n",
       "    </tr>\n",
       "    <tr>\n",
       "      <th>14</th>\n",
       "      <td>{'C': 0.001, 'solver': 'saga'}</td>\n",
       "      <td>0.785657</td>\n",
       "      <td>0.800507</td>\n",
       "      <td>0.014851</td>\n",
       "    </tr>\n",
       "    <tr>\n",
       "      <th>34</th>\n",
       "      <td>{'C': 10, 'solver': 'saga'}</td>\n",
       "      <td>0.790132</td>\n",
       "      <td>0.805274</td>\n",
       "      <td>0.015142</td>\n",
       "    </tr>\n",
       "    <tr>\n",
       "      <th>44</th>\n",
       "      <td>{'C': 1000, 'solver': 'saga'}</td>\n",
       "      <td>0.790132</td>\n",
       "      <td>0.805274</td>\n",
       "      <td>0.015142</td>\n",
       "    </tr>\n",
       "    <tr>\n",
       "      <th>39</th>\n",
       "      <td>{'C': 100, 'solver': 'saga'}</td>\n",
       "      <td>0.790132</td>\n",
       "      <td>0.805274</td>\n",
       "      <td>0.015142</td>\n",
       "    </tr>\n",
       "    <tr>\n",
       "      <th>49</th>\n",
       "      <td>{'C': 10000, 'solver': 'saga'}</td>\n",
       "      <td>0.790132</td>\n",
       "      <td>0.805274</td>\n",
       "      <td>0.015142</td>\n",
       "    </tr>\n",
       "    <tr>\n",
       "      <th>11</th>\n",
       "      <td>{'C': 0.001, 'solver': 'lbfgs'}</td>\n",
       "      <td>0.785657</td>\n",
       "      <td>0.801068</td>\n",
       "      <td>0.015412</td>\n",
       "    </tr>\n",
       "    <tr>\n",
       "      <th>13</th>\n",
       "      <td>{'C': 0.001, 'solver': 'sag'}</td>\n",
       "      <td>0.785657</td>\n",
       "      <td>0.801068</td>\n",
       "      <td>0.015412</td>\n",
       "    </tr>\n",
       "    <tr>\n",
       "      <th>10</th>\n",
       "      <td>{'C': 0.001, 'solver': 'newton-cg'}</td>\n",
       "      <td>0.785657</td>\n",
       "      <td>0.801068</td>\n",
       "      <td>0.015412</td>\n",
       "    </tr>\n",
       "    <tr>\n",
       "      <th>37</th>\n",
       "      <td>{'C': 100, 'solver': 'liblinear'}</td>\n",
       "      <td>0.790132</td>\n",
       "      <td>0.805555</td>\n",
       "      <td>0.015423</td>\n",
       "    </tr>\n",
       "    <tr>\n",
       "      <th>43</th>\n",
       "      <td>{'C': 1000, 'solver': 'sag'}</td>\n",
       "      <td>0.790132</td>\n",
       "      <td>0.805555</td>\n",
       "      <td>0.015423</td>\n",
       "    </tr>\n",
       "    <tr>\n",
       "      <th>42</th>\n",
       "      <td>{'C': 1000, 'solver': 'liblinear'}</td>\n",
       "      <td>0.790132</td>\n",
       "      <td>0.805555</td>\n",
       "      <td>0.015423</td>\n",
       "    </tr>\n",
       "    <tr>\n",
       "      <th>41</th>\n",
       "      <td>{'C': 1000, 'solver': 'lbfgs'}</td>\n",
       "      <td>0.790132</td>\n",
       "      <td>0.805555</td>\n",
       "      <td>0.015423</td>\n",
       "    </tr>\n",
       "    <tr>\n",
       "      <th>40</th>\n",
       "      <td>{'C': 1000, 'solver': 'newton-cg'}</td>\n",
       "      <td>0.790132</td>\n",
       "      <td>0.805555</td>\n",
       "      <td>0.015423</td>\n",
       "    </tr>\n",
       "    <tr>\n",
       "      <th>38</th>\n",
       "      <td>{'C': 100, 'solver': 'sag'}</td>\n",
       "      <td>0.790132</td>\n",
       "      <td>0.805555</td>\n",
       "      <td>0.015423</td>\n",
       "    </tr>\n",
       "    <tr>\n",
       "      <th>48</th>\n",
       "      <td>{'C': 10000, 'solver': 'sag'}</td>\n",
       "      <td>0.790132</td>\n",
       "      <td>0.805555</td>\n",
       "      <td>0.015423</td>\n",
       "    </tr>\n",
       "    <tr>\n",
       "      <th>36</th>\n",
       "      <td>{'C': 100, 'solver': 'lbfgs'}</td>\n",
       "      <td>0.790132</td>\n",
       "      <td>0.805555</td>\n",
       "      <td>0.015423</td>\n",
       "    </tr>\n",
       "    <tr>\n",
       "      <th>35</th>\n",
       "      <td>{'C': 100, 'solver': 'newton-cg'}</td>\n",
       "      <td>0.790132</td>\n",
       "      <td>0.805555</td>\n",
       "      <td>0.015423</td>\n",
       "    </tr>\n",
       "    <tr>\n",
       "      <th>32</th>\n",
       "      <td>{'C': 10, 'solver': 'liblinear'}</td>\n",
       "      <td>0.790132</td>\n",
       "      <td>0.805555</td>\n",
       "      <td>0.015423</td>\n",
       "    </tr>\n",
       "    <tr>\n",
       "      <th>46</th>\n",
       "      <td>{'C': 10000, 'solver': 'lbfgs'}</td>\n",
       "      <td>0.790132</td>\n",
       "      <td>0.805555</td>\n",
       "      <td>0.015423</td>\n",
       "    </tr>\n",
       "    <tr>\n",
       "      <th>47</th>\n",
       "      <td>{'C': 10000, 'solver': 'liblinear'}</td>\n",
       "      <td>0.790132</td>\n",
       "      <td>0.805555</td>\n",
       "      <td>0.015423</td>\n",
       "    </tr>\n",
       "    <tr>\n",
       "      <th>45</th>\n",
       "      <td>{'C': 10000, 'solver': 'newton-cg'}</td>\n",
       "      <td>0.790132</td>\n",
       "      <td>0.805555</td>\n",
       "      <td>0.015423</td>\n",
       "    </tr>\n",
       "    <tr>\n",
       "      <th>31</th>\n",
       "      <td>{'C': 10, 'solver': 'lbfgs'}</td>\n",
       "      <td>0.790132</td>\n",
       "      <td>0.805836</td>\n",
       "      <td>0.015704</td>\n",
       "    </tr>\n",
       "    <tr>\n",
       "      <th>30</th>\n",
       "      <td>{'C': 10, 'solver': 'newton-cg'}</td>\n",
       "      <td>0.790132</td>\n",
       "      <td>0.805836</td>\n",
       "      <td>0.015704</td>\n",
       "    </tr>\n",
       "    <tr>\n",
       "      <th>33</th>\n",
       "      <td>{'C': 10, 'solver': 'sag'}</td>\n",
       "      <td>0.790132</td>\n",
       "      <td>0.805836</td>\n",
       "      <td>0.015704</td>\n",
       "    </tr>\n",
       "    <tr>\n",
       "      <th>22</th>\n",
       "      <td>{'C': 0.1, 'solver': 'liblinear'}</td>\n",
       "      <td>0.789009</td>\n",
       "      <td>0.804715</td>\n",
       "      <td>0.015706</td>\n",
       "    </tr>\n",
       "    <tr>\n",
       "      <th>27</th>\n",
       "      <td>{'C': 1, 'solver': 'liblinear'}</td>\n",
       "      <td>0.790132</td>\n",
       "      <td>0.806117</td>\n",
       "      <td>0.015984</td>\n",
       "    </tr>\n",
       "    <tr>\n",
       "      <th>23</th>\n",
       "      <td>{'C': 0.1, 'solver': 'sag'}</td>\n",
       "      <td>0.789015</td>\n",
       "      <td>0.806678</td>\n",
       "      <td>0.017663</td>\n",
       "    </tr>\n",
       "    <tr>\n",
       "      <th>21</th>\n",
       "      <td>{'C': 0.1, 'solver': 'lbfgs'}</td>\n",
       "      <td>0.789015</td>\n",
       "      <td>0.806678</td>\n",
       "      <td>0.017663</td>\n",
       "    </tr>\n",
       "    <tr>\n",
       "      <th>20</th>\n",
       "      <td>{'C': 0.1, 'solver': 'newton-cg'}</td>\n",
       "      <td>0.789015</td>\n",
       "      <td>0.806678</td>\n",
       "      <td>0.017663</td>\n",
       "    </tr>\n",
       "    <tr>\n",
       "      <th>24</th>\n",
       "      <td>{'C': 0.1, 'solver': 'saga'}</td>\n",
       "      <td>0.789015</td>\n",
       "      <td>0.806678</td>\n",
       "      <td>0.017663</td>\n",
       "    </tr>\n",
       "  </tbody>\n",
       "</table>\n",
       "</div>"
      ],
      "text/plain": [
       "                                  params  mean_test_score  mean_train_score  \\\n",
       "8         {'C': 0.0001, 'solver': 'sag'}         0.622899          0.622055   \n",
       "9        {'C': 0.0001, 'solver': 'saga'}         0.622899          0.622055   \n",
       "6       {'C': 0.0001, 'solver': 'lbfgs'}         0.622899          0.622055   \n",
       "5   {'C': 0.0001, 'solver': 'newton-cg'}         0.622899          0.622055   \n",
       "0    {'C': 1e-05, 'solver': 'newton-cg'}         0.616163          0.616162   \n",
       "3          {'C': 1e-05, 'solver': 'sag'}         0.616163          0.616162   \n",
       "1        {'C': 1e-05, 'solver': 'lbfgs'}         0.616163          0.616162   \n",
       "4         {'C': 1e-05, 'solver': 'saga'}         0.616163          0.616162   \n",
       "7   {'C': 0.0001, 'solver': 'liblinear'}         0.774440          0.779180   \n",
       "12   {'C': 0.001, 'solver': 'liblinear'}         0.778915          0.784512   \n",
       "2    {'C': 1e-05, 'solver': 'liblinear'}         0.769945          0.775814   \n",
       "19         {'C': 0.01, 'solver': 'saga'}         0.800220          0.806399   \n",
       "16        {'C': 0.01, 'solver': 'lbfgs'}         0.799102          0.806399   \n",
       "18          {'C': 0.01, 'solver': 'sag'}         0.799102          0.806399   \n",
       "15    {'C': 0.01, 'solver': 'newton-cg'}         0.799102          0.806399   \n",
       "17    {'C': 0.01, 'solver': 'liblinear'}         0.784527          0.796297   \n",
       "28             {'C': 1, 'solver': 'sag'}         0.792380          0.805555   \n",
       "29            {'C': 1, 'solver': 'saga'}         0.792380          0.805555   \n",
       "25       {'C': 1, 'solver': 'newton-cg'}         0.792380          0.805555   \n",
       "26           {'C': 1, 'solver': 'lbfgs'}         0.792380          0.805555   \n",
       "14        {'C': 0.001, 'solver': 'saga'}         0.785657          0.800507   \n",
       "34           {'C': 10, 'solver': 'saga'}         0.790132          0.805274   \n",
       "44         {'C': 1000, 'solver': 'saga'}         0.790132          0.805274   \n",
       "39          {'C': 100, 'solver': 'saga'}         0.790132          0.805274   \n",
       "49        {'C': 10000, 'solver': 'saga'}         0.790132          0.805274   \n",
       "11       {'C': 0.001, 'solver': 'lbfgs'}         0.785657          0.801068   \n",
       "13         {'C': 0.001, 'solver': 'sag'}         0.785657          0.801068   \n",
       "10   {'C': 0.001, 'solver': 'newton-cg'}         0.785657          0.801068   \n",
       "37     {'C': 100, 'solver': 'liblinear'}         0.790132          0.805555   \n",
       "43          {'C': 1000, 'solver': 'sag'}         0.790132          0.805555   \n",
       "42    {'C': 1000, 'solver': 'liblinear'}         0.790132          0.805555   \n",
       "41        {'C': 1000, 'solver': 'lbfgs'}         0.790132          0.805555   \n",
       "40    {'C': 1000, 'solver': 'newton-cg'}         0.790132          0.805555   \n",
       "38           {'C': 100, 'solver': 'sag'}         0.790132          0.805555   \n",
       "48         {'C': 10000, 'solver': 'sag'}         0.790132          0.805555   \n",
       "36         {'C': 100, 'solver': 'lbfgs'}         0.790132          0.805555   \n",
       "35     {'C': 100, 'solver': 'newton-cg'}         0.790132          0.805555   \n",
       "32      {'C': 10, 'solver': 'liblinear'}         0.790132          0.805555   \n",
       "46       {'C': 10000, 'solver': 'lbfgs'}         0.790132          0.805555   \n",
       "47   {'C': 10000, 'solver': 'liblinear'}         0.790132          0.805555   \n",
       "45   {'C': 10000, 'solver': 'newton-cg'}         0.790132          0.805555   \n",
       "31          {'C': 10, 'solver': 'lbfgs'}         0.790132          0.805836   \n",
       "30      {'C': 10, 'solver': 'newton-cg'}         0.790132          0.805836   \n",
       "33            {'C': 10, 'solver': 'sag'}         0.790132          0.805836   \n",
       "22     {'C': 0.1, 'solver': 'liblinear'}         0.789009          0.804715   \n",
       "27       {'C': 1, 'solver': 'liblinear'}         0.790132          0.806117   \n",
       "23           {'C': 0.1, 'solver': 'sag'}         0.789015          0.806678   \n",
       "21         {'C': 0.1, 'solver': 'lbfgs'}         0.789015          0.806678   \n",
       "20     {'C': 0.1, 'solver': 'newton-cg'}         0.789015          0.806678   \n",
       "24          {'C': 0.1, 'solver': 'saga'}         0.789015          0.806678   \n",
       "\n",
       "         sub  \n",
       "8  -0.000843  \n",
       "9  -0.000843  \n",
       "6  -0.000843  \n",
       "5  -0.000843  \n",
       "0  -0.000002  \n",
       "3  -0.000002  \n",
       "1  -0.000002  \n",
       "4  -0.000002  \n",
       "7   0.004740  \n",
       "12  0.005597  \n",
       "2   0.005869  \n",
       "19  0.006180  \n",
       "16  0.007297  \n",
       "18  0.007297  \n",
       "15  0.007297  \n",
       "17  0.011770  \n",
       "28  0.013176  \n",
       "29  0.013176  \n",
       "25  0.013176  \n",
       "26  0.013176  \n",
       "14  0.014851  \n",
       "34  0.015142  \n",
       "44  0.015142  \n",
       "39  0.015142  \n",
       "49  0.015142  \n",
       "11  0.015412  \n",
       "13  0.015412  \n",
       "10  0.015412  \n",
       "37  0.015423  \n",
       "43  0.015423  \n",
       "42  0.015423  \n",
       "41  0.015423  \n",
       "40  0.015423  \n",
       "38  0.015423  \n",
       "48  0.015423  \n",
       "36  0.015423  \n",
       "35  0.015423  \n",
       "32  0.015423  \n",
       "46  0.015423  \n",
       "47  0.015423  \n",
       "45  0.015423  \n",
       "31  0.015704  \n",
       "30  0.015704  \n",
       "33  0.015704  \n",
       "22  0.015706  \n",
       "27  0.015984  \n",
       "23  0.017663  \n",
       "21  0.017663  \n",
       "20  0.017663  \n",
       "24  0.017663  "
      ]
     },
     "execution_count": 49,
     "metadata": {},
     "output_type": "execute_result"
    }
   ],
   "source": [
    "df = pd.DataFrame()\n",
    "df[\"params\"] = grid.cv_results_[\"params\"]\n",
    "df[\"mean_test_score\"] = grid.cv_results_[\"mean_test_score\"]\n",
    "df[\"mean_train_score\"] = grid.cv_results_[\"mean_train_score\"]\n",
    "df[\"sub\"] = pd.DataFrame( df[\"mean_train_score\"].to_numpy()- df[\"mean_test_score\"].to_numpy())\n",
    "df.sort_values(by = \"sub\" ,ascending = True)"
   ]
  },
  {
   "cell_type": "code",
   "execution_count": 50,
   "metadata": {},
   "outputs": [],
   "source": [
    "log_reg = LogisticRegression(C= 0.01, solver = 'sag')"
   ]
  },
  {
   "cell_type": "code",
   "execution_count": 51,
   "metadata": {},
   "outputs": [],
   "source": [
    "X_train, X_test, y_train, y_test = train_test_split(X, y, test_size=0.2, random_state=42)"
   ]
  },
  {
   "cell_type": "code",
   "execution_count": 52,
   "metadata": {},
   "outputs": [
    {
     "data": {
      "text/plain": [
       "LogisticRegression(C=0.01, solver='sag')"
      ]
     },
     "execution_count": 52,
     "metadata": {},
     "output_type": "execute_result"
    }
   ],
   "source": [
    "log_reg.fit(X_train,y_train)"
   ]
  },
  {
   "cell_type": "code",
   "execution_count": 53,
   "metadata": {},
   "outputs": [],
   "source": [
    "pred_y_test = log_reg.predict(X_test)\n",
    "pred_y_train = log_reg.predict(X_train)"
   ]
  },
  {
   "cell_type": "code",
   "execution_count": 54,
   "metadata": {},
   "outputs": [
    {
     "name": "stdout",
     "output_type": "stream",
     "text": [
      "              precision    recall  f1-score   support\n",
      "\n",
      "           0       1.00      0.59      0.74       179\n",
      "           1       0.00      0.00      0.00         0\n",
      "\n",
      "    accuracy                           0.59       179\n",
      "   macro avg       0.50      0.29      0.37       179\n",
      "weighted avg       1.00      0.59      0.74       179\n",
      "\n"
     ]
    }
   ],
   "source": [
    "print(classification_report(pred_y_test,y_test))"
   ]
  },
  {
   "cell_type": "code",
   "execution_count": 55,
   "metadata": {},
   "outputs": [
    {
     "name": "stdout",
     "output_type": "stream",
     "text": [
      "              precision    recall  f1-score   support\n",
      "\n",
      "           0       1.00      0.62      0.77       712\n",
      "           1       0.00      0.00      0.00         0\n",
      "\n",
      "    accuracy                           0.62       712\n",
      "   macro avg       0.50      0.31      0.38       712\n",
      "weighted avg       1.00      0.62      0.77       712\n",
      "\n"
     ]
    }
   ],
   "source": [
    "print(classification_report(pred_y_train,y_train))"
   ]
  },
  {
   "cell_type": "markdown",
   "metadata": {},
   "source": [
    "# K-nearest Neigbours"
   ]
  },
  {
   "cell_type": "code",
   "execution_count": 56,
   "metadata": {},
   "outputs": [],
   "source": [
    "from sklearn.neighbors import KNeighborsClassifier"
   ]
  },
  {
   "cell_type": "code",
   "execution_count": 57,
   "metadata": {},
   "outputs": [],
   "source": [
    "knn = KNeighborsClassifier()"
   ]
  },
  {
   "cell_type": "code",
   "execution_count": 58,
   "metadata": {},
   "outputs": [],
   "source": [
    "params = {\"n_neighbors\":range(2,12)}"
   ]
  },
  {
   "cell_type": "code",
   "execution_count": 59,
   "metadata": {},
   "outputs": [],
   "source": [
    "grid_knn = GridSearchCV(estimator = knn,param_grid=params,verbose = True,cv =3,return_train_score=True,scoring = \"f1\")"
   ]
  },
  {
   "cell_type": "code",
   "execution_count": 60,
   "metadata": {},
   "outputs": [
    {
     "name": "stdout",
     "output_type": "stream",
     "text": [
      "Fitting 3 folds for each of 10 candidates, totalling 30 fits\n"
     ]
    },
    {
     "name": "stderr",
     "output_type": "stream",
     "text": [
      "[Parallel(n_jobs=1)]: Using backend SequentialBackend with 1 concurrent workers.\n",
      "[Parallel(n_jobs=1)]: Done  30 out of  30 | elapsed:    1.3s finished\n"
     ]
    },
    {
     "data": {
      "text/plain": [
       "GridSearchCV(cv=3, estimator=KNeighborsClassifier(),\n",
       "             param_grid={'n_neighbors': range(2, 12)}, return_train_score=True,\n",
       "             scoring='f1', verbose=True)"
      ]
     },
     "execution_count": 60,
     "metadata": {},
     "output_type": "execute_result"
    }
   ],
   "source": [
    "grid_knn.fit(X_pf_pca,y)"
   ]
  },
  {
   "cell_type": "code",
   "execution_count": 61,
   "metadata": {},
   "outputs": [
    {
     "data": {
      "text/html": [
       "<div>\n",
       "<style scoped>\n",
       "    .dataframe tbody tr th:only-of-type {\n",
       "        vertical-align: middle;\n",
       "    }\n",
       "\n",
       "    .dataframe tbody tr th {\n",
       "        vertical-align: top;\n",
       "    }\n",
       "\n",
       "    .dataframe thead th {\n",
       "        text-align: right;\n",
       "    }\n",
       "</style>\n",
       "<table border=\"1\" class=\"dataframe\">\n",
       "  <thead>\n",
       "    <tr style=\"text-align: right;\">\n",
       "      <th></th>\n",
       "      <th>params</th>\n",
       "      <th>mean_test_score</th>\n",
       "      <th>mean_train_score</th>\n",
       "      <th>sub</th>\n",
       "    </tr>\n",
       "  </thead>\n",
       "  <tbody>\n",
       "    <tr>\n",
       "      <th>8</th>\n",
       "      <td>{'n_neighbors': 10}</td>\n",
       "      <td>0.721550</td>\n",
       "      <td>0.761141</td>\n",
       "      <td>0.039591</td>\n",
       "    </tr>\n",
       "    <tr>\n",
       "      <th>9</th>\n",
       "      <td>{'n_neighbors': 11}</td>\n",
       "      <td>0.728565</td>\n",
       "      <td>0.769140</td>\n",
       "      <td>0.040575</td>\n",
       "    </tr>\n",
       "    <tr>\n",
       "      <th>6</th>\n",
       "      <td>{'n_neighbors': 8}</td>\n",
       "      <td>0.714635</td>\n",
       "      <td>0.767347</td>\n",
       "      <td>0.052712</td>\n",
       "    </tr>\n",
       "    <tr>\n",
       "      <th>7</th>\n",
       "      <td>{'n_neighbors': 9}</td>\n",
       "      <td>0.726981</td>\n",
       "      <td>0.783816</td>\n",
       "      <td>0.056835</td>\n",
       "    </tr>\n",
       "    <tr>\n",
       "      <th>4</th>\n",
       "      <td>{'n_neighbors': 6}</td>\n",
       "      <td>0.711867</td>\n",
       "      <td>0.781624</td>\n",
       "      <td>0.069756</td>\n",
       "    </tr>\n",
       "    <tr>\n",
       "      <th>5</th>\n",
       "      <td>{'n_neighbors': 7}</td>\n",
       "      <td>0.707665</td>\n",
       "      <td>0.793038</td>\n",
       "      <td>0.085372</td>\n",
       "    </tr>\n",
       "    <tr>\n",
       "      <th>2</th>\n",
       "      <td>{'n_neighbors': 4}</td>\n",
       "      <td>0.699604</td>\n",
       "      <td>0.789757</td>\n",
       "      <td>0.090154</td>\n",
       "    </tr>\n",
       "    <tr>\n",
       "      <th>3</th>\n",
       "      <td>{'n_neighbors': 5}</td>\n",
       "      <td>0.713027</td>\n",
       "      <td>0.808677</td>\n",
       "      <td>0.095651</td>\n",
       "    </tr>\n",
       "    <tr>\n",
       "      <th>1</th>\n",
       "      <td>{'n_neighbors': 3}</td>\n",
       "      <td>0.706648</td>\n",
       "      <td>0.841896</td>\n",
       "      <td>0.135248</td>\n",
       "    </tr>\n",
       "    <tr>\n",
       "      <th>0</th>\n",
       "      <td>{'n_neighbors': 2}</td>\n",
       "      <td>0.638090</td>\n",
       "      <td>0.829591</td>\n",
       "      <td>0.191501</td>\n",
       "    </tr>\n",
       "  </tbody>\n",
       "</table>\n",
       "</div>"
      ],
      "text/plain": [
       "                params  mean_test_score  mean_train_score       sub\n",
       "8  {'n_neighbors': 10}         0.721550          0.761141  0.039591\n",
       "9  {'n_neighbors': 11}         0.728565          0.769140  0.040575\n",
       "6   {'n_neighbors': 8}         0.714635          0.767347  0.052712\n",
       "7   {'n_neighbors': 9}         0.726981          0.783816  0.056835\n",
       "4   {'n_neighbors': 6}         0.711867          0.781624  0.069756\n",
       "5   {'n_neighbors': 7}         0.707665          0.793038  0.085372\n",
       "2   {'n_neighbors': 4}         0.699604          0.789757  0.090154\n",
       "3   {'n_neighbors': 5}         0.713027          0.808677  0.095651\n",
       "1   {'n_neighbors': 3}         0.706648          0.841896  0.135248\n",
       "0   {'n_neighbors': 2}         0.638090          0.829591  0.191501"
      ]
     },
     "execution_count": 61,
     "metadata": {},
     "output_type": "execute_result"
    }
   ],
   "source": [
    "df = pd.DataFrame()\n",
    "df[\"params\"] = grid_knn.cv_results_[\"params\"]\n",
    "df[\"mean_test_score\"] = grid_knn.cv_results_[\"mean_test_score\"]\n",
    "df[\"mean_train_score\"] = grid_knn.cv_results_[\"mean_train_score\"]\n",
    "df[\"sub\"] = pd.DataFrame( df[\"mean_train_score\"].to_numpy()- df[\"mean_test_score\"].to_numpy())\n",
    "df.sort_values(by = \"sub\" ,ascending = True)"
   ]
  },
  {
   "cell_type": "code",
   "execution_count": 62,
   "metadata": {},
   "outputs": [
    {
     "data": {
      "text/plain": [
       "KNeighborsClassifier(n_neighbors=10)"
      ]
     },
     "execution_count": 62,
     "metadata": {},
     "output_type": "execute_result"
    }
   ],
   "source": [
    "knn = KNeighborsClassifier(n_neighbors= 10)\n",
    "X_train, X_test, y_train, y_test = train_test_split(X, y, test_size=0.33, random_state=42)\n",
    "knn.fit(X_train,y_train)"
   ]
  },
  {
   "cell_type": "code",
   "execution_count": 63,
   "metadata": {},
   "outputs": [],
   "source": [
    "y_pred_test = knn.predict(X_test)\n",
    "y_pred_train = knn.predict(X_train)"
   ]
  },
  {
   "cell_type": "code",
   "execution_count": 64,
   "metadata": {},
   "outputs": [
    {
     "name": "stdout",
     "output_type": "stream",
     "text": [
      "              precision    recall  f1-score   support\n",
      "\n",
      "           0       0.72      0.89      0.80       374\n",
      "           1       0.70      0.42      0.52       222\n",
      "\n",
      "    accuracy                           0.72       596\n",
      "   macro avg       0.71      0.66      0.66       596\n",
      "weighted avg       0.71      0.72      0.70       596\n",
      "\n"
     ]
    }
   ],
   "source": [
    "print(classification_report(y_train,y_pred_train))"
   ]
  },
  {
   "cell_type": "code",
   "execution_count": 65,
   "metadata": {},
   "outputs": [
    {
     "name": "stdout",
     "output_type": "stream",
     "text": [
      "              precision    recall  f1-score   support\n",
      "\n",
      "           0       0.67      0.82      0.74       175\n",
      "           1       0.61      0.41      0.49       120\n",
      "\n",
      "    accuracy                           0.65       295\n",
      "   macro avg       0.64      0.62      0.61       295\n",
      "weighted avg       0.65      0.65      0.64       295\n",
      "\n"
     ]
    }
   ],
   "source": [
    "print(classification_report(y_test,y_pred_test))"
   ]
  },
  {
   "cell_type": "markdown",
   "metadata": {},
   "source": [
    "# Decision Trees"
   ]
  },
  {
   "cell_type": "code",
   "execution_count": 66,
   "metadata": {},
   "outputs": [],
   "source": [
    "from sklearn.tree import DecisionTreeClassifier, export_graphviz"
   ]
  },
  {
   "cell_type": "code",
   "execution_count": 67,
   "metadata": {},
   "outputs": [],
   "source": [
    "decision_tree = DecisionTreeClassifier(random_state=42,criterion=\"entropy\")"
   ]
  },
  {
   "cell_type": "code",
   "execution_count": 68,
   "metadata": {},
   "outputs": [],
   "source": [
    "params = {\"max_depth\" : [x for x in range(1,6)]}"
   ]
  },
  {
   "cell_type": "code",
   "execution_count": 69,
   "metadata": {},
   "outputs": [],
   "source": [
    "grid_dec = GridSearchCV(estimator = decision_tree,param_grid=params,verbose = True,cv =3,return_train_score=True,scoring = \"f1\")"
   ]
  },
  {
   "cell_type": "code",
   "execution_count": 70,
   "metadata": {},
   "outputs": [
    {
     "name": "stdout",
     "output_type": "stream",
     "text": [
      "Fitting 3 folds for each of 5 candidates, totalling 15 fits\n"
     ]
    },
    {
     "name": "stderr",
     "output_type": "stream",
     "text": [
      "[Parallel(n_jobs=1)]: Using backend SequentialBackend with 1 concurrent workers.\n",
      "[Parallel(n_jobs=1)]: Done  15 out of  15 | elapsed:    0.1s finished\n"
     ]
    },
    {
     "data": {
      "text/plain": [
       "GridSearchCV(cv=3,\n",
       "             estimator=DecisionTreeClassifier(criterion='entropy',\n",
       "                                              random_state=42),\n",
       "             param_grid={'max_depth': [1, 2, 3, 4, 5]}, return_train_score=True,\n",
       "             scoring='f1', verbose=True)"
      ]
     },
     "execution_count": 70,
     "metadata": {},
     "output_type": "execute_result"
    }
   ],
   "source": [
    "grid_dec.fit(X,y)"
   ]
  },
  {
   "cell_type": "code",
   "execution_count": 71,
   "metadata": {},
   "outputs": [
    {
     "data": {
      "text/html": [
       "<div>\n",
       "<style scoped>\n",
       "    .dataframe tbody tr th:only-of-type {\n",
       "        vertical-align: middle;\n",
       "    }\n",
       "\n",
       "    .dataframe tbody tr th {\n",
       "        vertical-align: top;\n",
       "    }\n",
       "\n",
       "    .dataframe thead th {\n",
       "        text-align: right;\n",
       "    }\n",
       "</style>\n",
       "<table border=\"1\" class=\"dataframe\">\n",
       "  <thead>\n",
       "    <tr style=\"text-align: right;\">\n",
       "      <th></th>\n",
       "      <th>params</th>\n",
       "      <th>mean_test_score</th>\n",
       "      <th>mean_train_score</th>\n",
       "      <th>sub</th>\n",
       "    </tr>\n",
       "  </thead>\n",
       "  <tbody>\n",
       "    <tr>\n",
       "      <th>0</th>\n",
       "      <td>{'max_depth': 1}</td>\n",
       "      <td>0.709702</td>\n",
       "      <td>0.710205</td>\n",
       "      <td>0.000503</td>\n",
       "    </tr>\n",
       "    <tr>\n",
       "      <th>2</th>\n",
       "      <td>{'max_depth': 3}</td>\n",
       "      <td>0.731292</td>\n",
       "      <td>0.747348</td>\n",
       "      <td>0.016056</td>\n",
       "    </tr>\n",
       "    <tr>\n",
       "      <th>1</th>\n",
       "      <td>{'max_depth': 2}</td>\n",
       "      <td>0.666501</td>\n",
       "      <td>0.701666</td>\n",
       "      <td>0.035165</td>\n",
       "    </tr>\n",
       "    <tr>\n",
       "      <th>4</th>\n",
       "      <td>{'max_depth': 5}</td>\n",
       "      <td>0.739459</td>\n",
       "      <td>0.796777</td>\n",
       "      <td>0.057318</td>\n",
       "    </tr>\n",
       "    <tr>\n",
       "      <th>3</th>\n",
       "      <td>{'max_depth': 4}</td>\n",
       "      <td>0.690715</td>\n",
       "      <td>0.766094</td>\n",
       "      <td>0.075380</td>\n",
       "    </tr>\n",
       "  </tbody>\n",
       "</table>\n",
       "</div>"
      ],
      "text/plain": [
       "             params  mean_test_score  mean_train_score       sub\n",
       "0  {'max_depth': 1}         0.709702          0.710205  0.000503\n",
       "2  {'max_depth': 3}         0.731292          0.747348  0.016056\n",
       "1  {'max_depth': 2}         0.666501          0.701666  0.035165\n",
       "4  {'max_depth': 5}         0.739459          0.796777  0.057318\n",
       "3  {'max_depth': 4}         0.690715          0.766094  0.075380"
      ]
     },
     "execution_count": 71,
     "metadata": {},
     "output_type": "execute_result"
    }
   ],
   "source": [
    "df = pd.DataFrame()\n",
    "df[\"params\"] = grid_dec.cv_results_[\"params\"]\n",
    "df[\"mean_test_score\"] = grid_dec.cv_results_[\"mean_test_score\"]\n",
    "df[\"mean_train_score\"] = grid_dec.cv_results_[\"mean_train_score\"]\n",
    "df[\"sub\"] = pd.DataFrame( df[\"mean_train_score\"].to_numpy()- df[\"mean_test_score\"].to_numpy())\n",
    "df.sort_values(by = \"sub\" ,ascending = True)"
   ]
  },
  {
   "cell_type": "code",
   "execution_count": 72,
   "metadata": {},
   "outputs": [],
   "source": [
    "decision_tree = DecisionTreeClassifier(random_state=42,criterion=\"entropy\",max_depth=3)"
   ]
  },
  {
   "cell_type": "code",
   "execution_count": 73,
   "metadata": {},
   "outputs": [
    {
     "data": {
      "text/plain": [
       "DecisionTreeClassifier(criterion='entropy', max_depth=3, random_state=42)"
      ]
     },
     "execution_count": 73,
     "metadata": {},
     "output_type": "execute_result"
    }
   ],
   "source": [
    "decision_tree.fit(X,y)"
   ]
  },
  {
   "cell_type": "code",
   "execution_count": 74,
   "metadata": {},
   "outputs": [],
   "source": [
    "X_train, X_test, y_train, y_test = train_test_split(X, y, test_size=0.2, random_state=42)"
   ]
  },
  {
   "cell_type": "code",
   "execution_count": 75,
   "metadata": {},
   "outputs": [],
   "source": [
    "y_pred_test = decision_tree.predict(X_test)\n",
    "y_pred_train = decision_tree.predict(X_train)"
   ]
  },
  {
   "cell_type": "code",
   "execution_count": 76,
   "metadata": {},
   "outputs": [
    {
     "name": "stdout",
     "output_type": "stream",
     "text": [
      "              precision    recall  f1-score   support\n",
      "\n",
      "           0       1.00      0.59      0.74       179\n",
      "           1       0.00      0.00      0.00         0\n",
      "\n",
      "    accuracy                           0.59       179\n",
      "   macro avg       0.50      0.29      0.37       179\n",
      "weighted avg       1.00      0.59      0.74       179\n",
      "\n"
     ]
    }
   ],
   "source": [
    "print(classification_report(pred_y_test,y_test))"
   ]
  },
  {
   "cell_type": "code",
   "execution_count": 77,
   "metadata": {},
   "outputs": [
    {
     "name": "stdout",
     "output_type": "stream",
     "text": [
      "              precision    recall  f1-score   support\n",
      "\n",
      "           0       0.80      0.88      0.84       105\n",
      "           1       0.80      0.69      0.74        74\n",
      "\n",
      "    accuracy                           0.80       179\n",
      "   macro avg       0.80      0.78      0.79       179\n",
      "weighted avg       0.80      0.80      0.80       179\n",
      "\n"
     ]
    }
   ],
   "source": [
    "print(classification_report(y_test,y_pred_test))"
   ]
  },
  {
   "cell_type": "code",
   "execution_count": 78,
   "metadata": {},
   "outputs": [
    {
     "data": {
      "image/png": "[encoded data removed]",
      "text/plain": [
       "<Figure size 720x360 with 1 Axes>"
      ]
     },
     "metadata": {
      "needs_background": "light"
     },
     "output_type": "display_data"
    }
   ],
   "source": [
    "importance_level = pd.Series(data=decision_tree.feature_importances_,\n",
    "                        index= X_train.columns)\n",
    "\n",
    "importance_level_sorted = importance_level.sort_values()\n",
    "plt.figure(figsize=(10,5))\n",
    "importance_level_sorted.plot(kind='barh', color='darkred')\n",
    "plt.title('Importance Level of the Features')\n",
    "plt.show()"
   ]
  },
  {
   "cell_type": "markdown",
   "metadata": {},
   "source": [
    "# Random Forest"
   ]
  },
  {
   "cell_type": "code",
   "execution_count": 79,
   "metadata": {},
   "outputs": [],
   "source": [
    "from sklearn.ensemble import RandomForestClassifier\n",
    "random_forest = RandomForestClassifier(random_state=42,criterion = \"entropy\")"
   ]
  },
  {
   "cell_type": "code",
   "execution_count": 80,
   "metadata": {},
   "outputs": [],
   "source": [
    "params = {\"n_estimators\": [x for x in range(1,10,1)],\"max_depth\":[3,4,5,6]}"
   ]
  },
  {
   "cell_type": "code",
   "execution_count": 81,
   "metadata": {},
   "outputs": [],
   "source": [
    "grid_rand = GridSearchCV(estimator = random_forest,param_grid=params,verbose = True,cv =3,return_train_score=True,scoring = \"f1\")"
   ]
  },
  {
   "cell_type": "code",
   "execution_count": 82,
   "metadata": {},
   "outputs": [
    {
     "name": "stdout",
     "output_type": "stream",
     "text": [
      "Fitting 3 folds for each of 36 candidates, totalling 108 fits\n"
     ]
    },
    {
     "name": "stderr",
     "output_type": "stream",
     "text": [
      "[Parallel(n_jobs=1)]: Using backend SequentialBackend with 1 concurrent workers.\n",
      "[Parallel(n_jobs=1)]: Done 108 out of 108 | elapsed:    2.4s finished\n"
     ]
    },
    {
     "data": {
      "text/plain": [
       "GridSearchCV(cv=3,\n",
       "             estimator=RandomForestClassifier(criterion='entropy',\n",
       "                                              random_state=42),\n",
       "             param_grid={'max_depth': [3, 4, 5, 6],\n",
       "                         'n_estimators': [1, 2, 3, 4, 5, 6, 7, 8, 9]},\n",
       "             return_train_score=True, scoring='f1', verbose=True)"
      ]
     },
     "execution_count": 82,
     "metadata": {},
     "output_type": "execute_result"
    }
   ],
   "source": [
    "grid_rand.fit(X,y)"
   ]
  },
  {
   "cell_type": "code",
   "execution_count": 83,
   "metadata": {},
   "outputs": [
    {
     "data": {
      "text/html": [
       "<div>\n",
       "<style scoped>\n",
       "    .dataframe tbody tr th:only-of-type {\n",
       "        vertical-align: middle;\n",
       "    }\n",
       "\n",
       "    .dataframe tbody tr th {\n",
       "        vertical-align: top;\n",
       "    }\n",
       "\n",
       "    .dataframe thead th {\n",
       "        text-align: right;\n",
       "    }\n",
       "</style>\n",
       "<table border=\"1\" class=\"dataframe\">\n",
       "  <thead>\n",
       "    <tr style=\"text-align: right;\">\n",
       "      <th></th>\n",
       "      <th>params</th>\n",
       "      <th>mean_test_score</th>\n",
       "      <th>mean_train_score</th>\n",
       "      <th>sub</th>\n",
       "    </tr>\n",
       "  </thead>\n",
       "  <tbody>\n",
       "    <tr>\n",
       "      <th>0</th>\n",
       "      <td>{'max_depth': 3, 'n_estimators': 1}</td>\n",
       "      <td>0.706756</td>\n",
       "      <td>0.717255</td>\n",
       "      <td>0.010499</td>\n",
       "    </tr>\n",
       "    <tr>\n",
       "      <th>4</th>\n",
       "      <td>{'max_depth': 3, 'n_estimators': 5}</td>\n",
       "      <td>0.706274</td>\n",
       "      <td>0.731589</td>\n",
       "      <td>0.025315</td>\n",
       "    </tr>\n",
       "    <tr>\n",
       "      <th>1</th>\n",
       "      <td>{'max_depth': 3, 'n_estimators': 2}</td>\n",
       "      <td>0.703618</td>\n",
       "      <td>0.729135</td>\n",
       "      <td>0.025516</td>\n",
       "    </tr>\n",
       "    <tr>\n",
       "      <th>3</th>\n",
       "      <td>{'max_depth': 3, 'n_estimators': 4}</td>\n",
       "      <td>0.707427</td>\n",
       "      <td>0.736599</td>\n",
       "      <td>0.029172</td>\n",
       "    </tr>\n",
       "    <tr>\n",
       "      <th>2</th>\n",
       "      <td>{'max_depth': 3, 'n_estimators': 3}</td>\n",
       "      <td>0.695985</td>\n",
       "      <td>0.730763</td>\n",
       "      <td>0.034777</td>\n",
       "    </tr>\n",
       "    <tr>\n",
       "      <th>8</th>\n",
       "      <td>{'max_depth': 3, 'n_estimators': 9}</td>\n",
       "      <td>0.716749</td>\n",
       "      <td>0.752781</td>\n",
       "      <td>0.036032</td>\n",
       "    </tr>\n",
       "    <tr>\n",
       "      <th>7</th>\n",
       "      <td>{'max_depth': 3, 'n_estimators': 8}</td>\n",
       "      <td>0.711302</td>\n",
       "      <td>0.749945</td>\n",
       "      <td>0.038643</td>\n",
       "    </tr>\n",
       "    <tr>\n",
       "      <th>14</th>\n",
       "      <td>{'max_depth': 4, 'n_estimators': 6}</td>\n",
       "      <td>0.708671</td>\n",
       "      <td>0.750432</td>\n",
       "      <td>0.041761</td>\n",
       "    </tr>\n",
       "    <tr>\n",
       "      <th>6</th>\n",
       "      <td>{'max_depth': 3, 'n_estimators': 7}</td>\n",
       "      <td>0.699063</td>\n",
       "      <td>0.742058</td>\n",
       "      <td>0.042995</td>\n",
       "    </tr>\n",
       "    <tr>\n",
       "      <th>13</th>\n",
       "      <td>{'max_depth': 4, 'n_estimators': 5}</td>\n",
       "      <td>0.698001</td>\n",
       "      <td>0.745646</td>\n",
       "      <td>0.047645</td>\n",
       "    </tr>\n",
       "    <tr>\n",
       "      <th>16</th>\n",
       "      <td>{'max_depth': 4, 'n_estimators': 8}</td>\n",
       "      <td>0.705300</td>\n",
       "      <td>0.753885</td>\n",
       "      <td>0.048584</td>\n",
       "    </tr>\n",
       "    <tr>\n",
       "      <th>12</th>\n",
       "      <td>{'max_depth': 4, 'n_estimators': 4}</td>\n",
       "      <td>0.710623</td>\n",
       "      <td>0.759666</td>\n",
       "      <td>0.049043</td>\n",
       "    </tr>\n",
       "    <tr>\n",
       "      <th>17</th>\n",
       "      <td>{'max_depth': 4, 'n_estimators': 9}</td>\n",
       "      <td>0.704710</td>\n",
       "      <td>0.757325</td>\n",
       "      <td>0.052615</td>\n",
       "    </tr>\n",
       "    <tr>\n",
       "      <th>15</th>\n",
       "      <td>{'max_depth': 4, 'n_estimators': 7}</td>\n",
       "      <td>0.699407</td>\n",
       "      <td>0.753160</td>\n",
       "      <td>0.053753</td>\n",
       "    </tr>\n",
       "    <tr>\n",
       "      <th>9</th>\n",
       "      <td>{'max_depth': 4, 'n_estimators': 1}</td>\n",
       "      <td>0.684657</td>\n",
       "      <td>0.739078</td>\n",
       "      <td>0.054421</td>\n",
       "    </tr>\n",
       "    <tr>\n",
       "      <th>5</th>\n",
       "      <td>{'max_depth': 3, 'n_estimators': 6}</td>\n",
       "      <td>0.673169</td>\n",
       "      <td>0.732130</td>\n",
       "      <td>0.058961</td>\n",
       "    </tr>\n",
       "    <tr>\n",
       "      <th>11</th>\n",
       "      <td>{'max_depth': 4, 'n_estimators': 3}</td>\n",
       "      <td>0.684132</td>\n",
       "      <td>0.743443</td>\n",
       "      <td>0.059311</td>\n",
       "    </tr>\n",
       "    <tr>\n",
       "      <th>10</th>\n",
       "      <td>{'max_depth': 4, 'n_estimators': 2}</td>\n",
       "      <td>0.689677</td>\n",
       "      <td>0.750597</td>\n",
       "      <td>0.060920</td>\n",
       "    </tr>\n",
       "    <tr>\n",
       "      <th>23</th>\n",
       "      <td>{'max_depth': 5, 'n_estimators': 6}</td>\n",
       "      <td>0.718937</td>\n",
       "      <td>0.784765</td>\n",
       "      <td>0.065828</td>\n",
       "    </tr>\n",
       "    <tr>\n",
       "      <th>21</th>\n",
       "      <td>{'max_depth': 5, 'n_estimators': 4}</td>\n",
       "      <td>0.709745</td>\n",
       "      <td>0.777890</td>\n",
       "      <td>0.068145</td>\n",
       "    </tr>\n",
       "    <tr>\n",
       "      <th>25</th>\n",
       "      <td>{'max_depth': 5, 'n_estimators': 8}</td>\n",
       "      <td>0.723747</td>\n",
       "      <td>0.792996</td>\n",
       "      <td>0.069249</td>\n",
       "    </tr>\n",
       "    <tr>\n",
       "      <th>26</th>\n",
       "      <td>{'max_depth': 5, 'n_estimators': 9}</td>\n",
       "      <td>0.729401</td>\n",
       "      <td>0.800082</td>\n",
       "      <td>0.070680</td>\n",
       "    </tr>\n",
       "    <tr>\n",
       "      <th>24</th>\n",
       "      <td>{'max_depth': 5, 'n_estimators': 7}</td>\n",
       "      <td>0.718024</td>\n",
       "      <td>0.788714</td>\n",
       "      <td>0.070690</td>\n",
       "    </tr>\n",
       "    <tr>\n",
       "      <th>18</th>\n",
       "      <td>{'max_depth': 5, 'n_estimators': 1}</td>\n",
       "      <td>0.673556</td>\n",
       "      <td>0.744990</td>\n",
       "      <td>0.071434</td>\n",
       "    </tr>\n",
       "    <tr>\n",
       "      <th>22</th>\n",
       "      <td>{'max_depth': 5, 'n_estimators': 5}</td>\n",
       "      <td>0.715823</td>\n",
       "      <td>0.787473</td>\n",
       "      <td>0.071649</td>\n",
       "    </tr>\n",
       "    <tr>\n",
       "      <th>20</th>\n",
       "      <td>{'max_depth': 5, 'n_estimators': 3}</td>\n",
       "      <td>0.701554</td>\n",
       "      <td>0.775265</td>\n",
       "      <td>0.073712</td>\n",
       "    </tr>\n",
       "    <tr>\n",
       "      <th>19</th>\n",
       "      <td>{'max_depth': 5, 'n_estimators': 2}</td>\n",
       "      <td>0.686424</td>\n",
       "      <td>0.773758</td>\n",
       "      <td>0.087335</td>\n",
       "    </tr>\n",
       "    <tr>\n",
       "      <th>33</th>\n",
       "      <td>{'max_depth': 6, 'n_estimators': 7}</td>\n",
       "      <td>0.715421</td>\n",
       "      <td>0.816305</td>\n",
       "      <td>0.100883</td>\n",
       "    </tr>\n",
       "    <tr>\n",
       "      <th>27</th>\n",
       "      <td>{'max_depth': 6, 'n_estimators': 1}</td>\n",
       "      <td>0.668979</td>\n",
       "      <td>0.772285</td>\n",
       "      <td>0.103307</td>\n",
       "    </tr>\n",
       "    <tr>\n",
       "      <th>29</th>\n",
       "      <td>{'max_depth': 6, 'n_estimators': 3}</td>\n",
       "      <td>0.708865</td>\n",
       "      <td>0.815002</td>\n",
       "      <td>0.106137</td>\n",
       "    </tr>\n",
       "    <tr>\n",
       "      <th>34</th>\n",
       "      <td>{'max_depth': 6, 'n_estimators': 8}</td>\n",
       "      <td>0.719059</td>\n",
       "      <td>0.826290</td>\n",
       "      <td>0.107230</td>\n",
       "    </tr>\n",
       "    <tr>\n",
       "      <th>31</th>\n",
       "      <td>{'max_depth': 6, 'n_estimators': 5}</td>\n",
       "      <td>0.720126</td>\n",
       "      <td>0.827486</td>\n",
       "      <td>0.107361</td>\n",
       "    </tr>\n",
       "    <tr>\n",
       "      <th>30</th>\n",
       "      <td>{'max_depth': 6, 'n_estimators': 4}</td>\n",
       "      <td>0.712412</td>\n",
       "      <td>0.821950</td>\n",
       "      <td>0.109538</td>\n",
       "    </tr>\n",
       "    <tr>\n",
       "      <th>28</th>\n",
       "      <td>{'max_depth': 6, 'n_estimators': 2}</td>\n",
       "      <td>0.688220</td>\n",
       "      <td>0.799030</td>\n",
       "      <td>0.110810</td>\n",
       "    </tr>\n",
       "    <tr>\n",
       "      <th>35</th>\n",
       "      <td>{'max_depth': 6, 'n_estimators': 9}</td>\n",
       "      <td>0.713642</td>\n",
       "      <td>0.828109</td>\n",
       "      <td>0.114467</td>\n",
       "    </tr>\n",
       "    <tr>\n",
       "      <th>32</th>\n",
       "      <td>{'max_depth': 6, 'n_estimators': 6}</td>\n",
       "      <td>0.706151</td>\n",
       "      <td>0.823168</td>\n",
       "      <td>0.117016</td>\n",
       "    </tr>\n",
       "  </tbody>\n",
       "</table>\n",
       "</div>"
      ],
      "text/plain": [
       "                                 params  mean_test_score  mean_train_score  \\\n",
       "0   {'max_depth': 3, 'n_estimators': 1}         0.706756          0.717255   \n",
       "4   {'max_depth': 3, 'n_estimators': 5}         0.706274          0.731589   \n",
       "1   {'max_depth': 3, 'n_estimators': 2}         0.703618          0.729135   \n",
       "3   {'max_depth': 3, 'n_estimators': 4}         0.707427          0.736599   \n",
       "2   {'max_depth': 3, 'n_estimators': 3}         0.695985          0.730763   \n",
       "8   {'max_depth': 3, 'n_estimators': 9}         0.716749          0.752781   \n",
       "7   {'max_depth': 3, 'n_estimators': 8}         0.711302          0.749945   \n",
       "14  {'max_depth': 4, 'n_estimators': 6}         0.708671          0.750432   \n",
       "6   {'max_depth': 3, 'n_estimators': 7}         0.699063          0.742058   \n",
       "13  {'max_depth': 4, 'n_estimators': 5}         0.698001          0.745646   \n",
       "16  {'max_depth': 4, 'n_estimators': 8}         0.705300          0.753885   \n",
       "12  {'max_depth': 4, 'n_estimators': 4}         0.710623          0.759666   \n",
       "17  {'max_depth': 4, 'n_estimators': 9}         0.704710          0.757325   \n",
       "15  {'max_depth': 4, 'n_estimators': 7}         0.699407          0.753160   \n",
       "9   {'max_depth': 4, 'n_estimators': 1}         0.684657          0.739078   \n",
       "5   {'max_depth': 3, 'n_estimators': 6}         0.673169          0.732130   \n",
       "11  {'max_depth': 4, 'n_estimators': 3}         0.684132          0.743443   \n",
       "10  {'max_depth': 4, 'n_estimators': 2}         0.689677          0.750597   \n",
       "23  {'max_depth': 5, 'n_estimators': 6}         0.718937          0.784765   \n",
       "21  {'max_depth': 5, 'n_estimators': 4}         0.709745          0.777890   \n",
       "25  {'max_depth': 5, 'n_estimators': 8}         0.723747          0.792996   \n",
       "26  {'max_depth': 5, 'n_estimators': 9}         0.729401          0.800082   \n",
       "24  {'max_depth': 5, 'n_estimators': 7}         0.718024          0.788714   \n",
       "18  {'max_depth': 5, 'n_estimators': 1}         0.673556          0.744990   \n",
       "22  {'max_depth': 5, 'n_estimators': 5}         0.715823          0.787473   \n",
       "20  {'max_depth': 5, 'n_estimators': 3}         0.701554          0.775265   \n",
       "19  {'max_depth': 5, 'n_estimators': 2}         0.686424          0.773758   \n",
       "33  {'max_depth': 6, 'n_estimators': 7}         0.715421          0.816305   \n",
       "27  {'max_depth': 6, 'n_estimators': 1}         0.668979          0.772285   \n",
       "29  {'max_depth': 6, 'n_estimators': 3}         0.708865          0.815002   \n",
       "34  {'max_depth': 6, 'n_estimators': 8}         0.719059          0.826290   \n",
       "31  {'max_depth': 6, 'n_estimators': 5}         0.720126          0.827486   \n",
       "30  {'max_depth': 6, 'n_estimators': 4}         0.712412          0.821950   \n",
       "28  {'max_depth': 6, 'n_estimators': 2}         0.688220          0.799030   \n",
       "35  {'max_depth': 6, 'n_estimators': 9}         0.713642          0.828109   \n",
       "32  {'max_depth': 6, 'n_estimators': 6}         0.706151          0.823168   \n",
       "\n",
       "         sub  \n",
       "0   0.010499  \n",
       "4   0.025315  \n",
       "1   0.025516  \n",
       "3   0.029172  \n",
       "2   0.034777  \n",
       "8   0.036032  \n",
       "7   0.038643  \n",
       "14  0.041761  \n",
       "6   0.042995  \n",
       "13  0.047645  \n",
       "16  0.048584  \n",
       "12  0.049043  \n",
       "17  0.052615  \n",
       "15  0.053753  \n",
       "9   0.054421  \n",
       "5   0.058961  \n",
       "11  0.059311  \n",
       "10  0.060920  \n",
       "23  0.065828  \n",
       "21  0.068145  \n",
       "25  0.069249  \n",
       "26  0.070680  \n",
       "24  0.070690  \n",
       "18  0.071434  \n",
       "22  0.071649  \n",
       "20  0.073712  \n",
       "19  0.087335  \n",
       "33  0.100883  \n",
       "27  0.103307  \n",
       "29  0.106137  \n",
       "34  0.107230  \n",
       "31  0.107361  \n",
       "30  0.109538  \n",
       "28  0.110810  \n",
       "35  0.114467  \n",
       "32  0.117016  "
      ]
     },
     "execution_count": 83,
     "metadata": {},
     "output_type": "execute_result"
    }
   ],
   "source": [
    "df = pd.DataFrame()\n",
    "df[\"params\"] = grid_rand.cv_results_[\"params\"]\n",
    "df[\"mean_test_score\"] = grid_rand.cv_results_[\"mean_test_score\"]\n",
    "df[\"mean_train_score\"] = grid_rand.cv_results_[\"mean_train_score\"]\n",
    "df[\"sub\"] = pd.DataFrame( df[\"mean_train_score\"].to_numpy()- df[\"mean_test_score\"].to_numpy())\n",
    "df.sort_values(by = \"sub\" ,ascending = True)"
   ]
  },
  {
   "cell_type": "code",
   "execution_count": 84,
   "metadata": {},
   "outputs": [],
   "source": [
    "random_forest = RandomForestClassifier(random_state=42,criterion = \"entropy\",max_depth = 3, n_estimators= 1)"
   ]
  },
  {
   "cell_type": "code",
   "execution_count": 85,
   "metadata": {},
   "outputs": [],
   "source": [
    "X_train, X_test, y_train, y_test = train_test_split(X, y, test_size=0.2, random_state=42)"
   ]
  },
  {
   "cell_type": "code",
   "execution_count": 86,
   "metadata": {},
   "outputs": [
    {
     "data": {
      "text/plain": [
       "RandomForestClassifier(criterion='entropy', max_depth=3, n_estimators=1,\n",
       "                       random_state=42)"
      ]
     },
     "execution_count": 86,
     "metadata": {},
     "output_type": "execute_result"
    }
   ],
   "source": [
    "random_forest.fit(X_train,y_train)"
   ]
  },
  {
   "cell_type": "code",
   "execution_count": 87,
   "metadata": {},
   "outputs": [],
   "source": [
    "y_pred_test = random_forest.predict(X_test)\n",
    "y_pred_train = random_forest.predict(X_train)"
   ]
  },
  {
   "cell_type": "code",
   "execution_count": 88,
   "metadata": {},
   "outputs": [
    {
     "name": "stdout",
     "output_type": "stream",
     "text": [
      "              precision    recall  f1-score   support\n",
      "\n",
      "           0       1.00      0.59      0.74       179\n",
      "           1       0.00      0.00      0.00         0\n",
      "\n",
      "    accuracy                           0.59       179\n",
      "   macro avg       0.50      0.29      0.37       179\n",
      "weighted avg       1.00      0.59      0.74       179\n",
      "\n"
     ]
    }
   ],
   "source": [
    "print(classification_report(pred_y_test,y_test))"
   ]
  },
  {
   "cell_type": "code",
   "execution_count": 89,
   "metadata": {},
   "outputs": [
    {
     "name": "stdout",
     "output_type": "stream",
     "text": [
      "              precision    recall  f1-score   support\n",
      "\n",
      "           0       0.78      0.90      0.83       105\n",
      "           1       0.81      0.64      0.71        74\n",
      "\n",
      "    accuracy                           0.79       179\n",
      "   macro avg       0.79      0.77      0.77       179\n",
      "weighted avg       0.79      0.79      0.78       179\n",
      "\n"
     ]
    }
   ],
   "source": [
    "print(classification_report(y_test,y_pred_test))"
   ]
  },
  {
   "cell_type": "code",
   "execution_count": 90,
   "metadata": {},
   "outputs": [
    {
     "data": {
      "image/png": "[encoded data removed]",
      "text/plain": [
       "<Figure size 720x360 with 1 Axes>"
      ]
     },
     "metadata": {
      "needs_background": "light"
     },
     "output_type": "display_data"
    }
   ],
   "source": [
    "importance_level = pd.Series(data=random_forest.feature_importances_,\n",
    "                        index= X_train.columns)\n",
    "\n",
    "importance_level_sorted = importance_level.sort_values()\n",
    "plt.figure(figsize=(10,5))\n",
    "importance_level_sorted.plot(kind='barh', color='darkred')\n",
    "plt.title('Importance Level of the Features')\n",
    "plt.show()"
   ]
  },
  {
   "cell_type": "markdown",
   "metadata": {},
   "source": [
    "# SVM"
   ]
  },
  {
   "cell_type": "code",
   "execution_count": 91,
   "metadata": {},
   "outputs": [],
   "source": [
    "from sklearn.svm import SVC\n",
    "svc = SVC(random_state=42)"
   ]
  },
  {
   "cell_type": "code",
   "execution_count": 92,
   "metadata": {},
   "outputs": [],
   "source": [
    "parameters = {\"C\": [10 ** x for x in range (-5, 5, 1)] \n",
    "             }"
   ]
  },
  {
   "cell_type": "code",
   "execution_count": 93,
   "metadata": {},
   "outputs": [],
   "source": [
    "grid_svm = GridSearchCV(estimator = svc,param_grid=parameters,verbose = True,cv =3,return_train_score=True,scoring = \"f1\")"
   ]
  },
  {
   "cell_type": "code",
   "execution_count": 94,
   "metadata": {},
   "outputs": [
    {
     "name": "stdout",
     "output_type": "stream",
     "text": [
      "Fitting 3 folds for each of 10 candidates, totalling 30 fits\n"
     ]
    },
    {
     "name": "stderr",
     "output_type": "stream",
     "text": [
      "[Parallel(n_jobs=1)]: Using backend SequentialBackend with 1 concurrent workers.\n",
      "[Parallel(n_jobs=1)]: Done  30 out of  30 | elapsed:    2.0s finished\n"
     ]
    },
    {
     "data": {
      "text/plain": [
       "GridSearchCV(cv=3, estimator=SVC(random_state=42),\n",
       "             param_grid={'C': [1e-05, 0.0001, 0.001, 0.01, 0.1, 1, 10, 100,\n",
       "                               1000, 10000]},\n",
       "             return_train_score=True, scoring='f1', verbose=True)"
      ]
     },
     "execution_count": 94,
     "metadata": {},
     "output_type": "execute_result"
    }
   ],
   "source": [
    "grid_svm.fit(X_pf_pca,y)"
   ]
  },
  {
   "cell_type": "code",
   "execution_count": 95,
   "metadata": {},
   "outputs": [
    {
     "data": {
      "text/html": [
       "<div>\n",
       "<style scoped>\n",
       "    .dataframe tbody tr th:only-of-type {\n",
       "        vertical-align: middle;\n",
       "    }\n",
       "\n",
       "    .dataframe tbody tr th {\n",
       "        vertical-align: top;\n",
       "    }\n",
       "\n",
       "    .dataframe thead th {\n",
       "        text-align: right;\n",
       "    }\n",
       "</style>\n",
       "<table border=\"1\" class=\"dataframe\">\n",
       "  <thead>\n",
       "    <tr style=\"text-align: right;\">\n",
       "      <th></th>\n",
       "      <th>params</th>\n",
       "      <th>mean_test_score</th>\n",
       "      <th>mean_train_score</th>\n",
       "      <th>sub</th>\n",
       "    </tr>\n",
       "  </thead>\n",
       "  <tbody>\n",
       "    <tr>\n",
       "      <th>0</th>\n",
       "      <td>{'C': 1e-05}</td>\n",
       "      <td>0.000000</td>\n",
       "      <td>0.000000</td>\n",
       "      <td>0.000000</td>\n",
       "    </tr>\n",
       "    <tr>\n",
       "      <th>1</th>\n",
       "      <td>{'C': 0.0001}</td>\n",
       "      <td>0.000000</td>\n",
       "      <td>0.000000</td>\n",
       "      <td>0.000000</td>\n",
       "    </tr>\n",
       "    <tr>\n",
       "      <th>2</th>\n",
       "      <td>{'C': 0.001}</td>\n",
       "      <td>0.000000</td>\n",
       "      <td>0.000000</td>\n",
       "      <td>0.000000</td>\n",
       "    </tr>\n",
       "    <tr>\n",
       "      <th>3</th>\n",
       "      <td>{'C': 0.01}</td>\n",
       "      <td>0.000000</td>\n",
       "      <td>0.000000</td>\n",
       "      <td>0.000000</td>\n",
       "    </tr>\n",
       "    <tr>\n",
       "      <th>4</th>\n",
       "      <td>{'C': 0.1}</td>\n",
       "      <td>0.678319</td>\n",
       "      <td>0.701075</td>\n",
       "      <td>0.022756</td>\n",
       "    </tr>\n",
       "    <tr>\n",
       "      <th>5</th>\n",
       "      <td>{'C': 1}</td>\n",
       "      <td>0.734589</td>\n",
       "      <td>0.759784</td>\n",
       "      <td>0.025195</td>\n",
       "    </tr>\n",
       "    <tr>\n",
       "      <th>6</th>\n",
       "      <td>{'C': 10}</td>\n",
       "      <td>0.729999</td>\n",
       "      <td>0.799292</td>\n",
       "      <td>0.069293</td>\n",
       "    </tr>\n",
       "    <tr>\n",
       "      <th>7</th>\n",
       "      <td>{'C': 100}</td>\n",
       "      <td>0.713182</td>\n",
       "      <td>0.834951</td>\n",
       "      <td>0.121769</td>\n",
       "    </tr>\n",
       "    <tr>\n",
       "      <th>8</th>\n",
       "      <td>{'C': 1000}</td>\n",
       "      <td>0.675099</td>\n",
       "      <td>0.865050</td>\n",
       "      <td>0.189951</td>\n",
       "    </tr>\n",
       "    <tr>\n",
       "      <th>9</th>\n",
       "      <td>{'C': 10000}</td>\n",
       "      <td>0.679369</td>\n",
       "      <td>0.893212</td>\n",
       "      <td>0.213843</td>\n",
       "    </tr>\n",
       "  </tbody>\n",
       "</table>\n",
       "</div>"
      ],
      "text/plain": [
       "          params  mean_test_score  mean_train_score       sub\n",
       "0   {'C': 1e-05}         0.000000          0.000000  0.000000\n",
       "1  {'C': 0.0001}         0.000000          0.000000  0.000000\n",
       "2   {'C': 0.001}         0.000000          0.000000  0.000000\n",
       "3    {'C': 0.01}         0.000000          0.000000  0.000000\n",
       "4     {'C': 0.1}         0.678319          0.701075  0.022756\n",
       "5       {'C': 1}         0.734589          0.759784  0.025195\n",
       "6      {'C': 10}         0.729999          0.799292  0.069293\n",
       "7     {'C': 100}         0.713182          0.834951  0.121769\n",
       "8    {'C': 1000}         0.675099          0.865050  0.189951\n",
       "9   {'C': 10000}         0.679369          0.893212  0.213843"
      ]
     },
     "execution_count": 95,
     "metadata": {},
     "output_type": "execute_result"
    }
   ],
   "source": [
    "df = pd.DataFrame()\n",
    "df[\"params\"] = grid_svm.cv_results_[\"params\"]\n",
    "df[\"mean_test_score\"] = grid_svm.cv_results_[\"mean_test_score\"]\n",
    "df[\"mean_train_score\"] = grid_svm.cv_results_[\"mean_train_score\"]\n",
    "df[\"sub\"] = pd.DataFrame( df[\"mean_train_score\"].to_numpy()- df[\"mean_test_score\"].to_numpy())\n",
    "df.sort_values(by = \"sub\" ,ascending = True)"
   ]
  },
  {
   "cell_type": "code",
   "execution_count": 96,
   "metadata": {},
   "outputs": [],
   "source": [
    "svc = SVC(random_state=42,C=1)"
   ]
  },
  {
   "cell_type": "code",
   "execution_count": 97,
   "metadata": {},
   "outputs": [],
   "source": [
    "X_train, X_test, y_train, y_test = train_test_split(X, y, test_size=0.2, random_state=42)"
   ]
  },
  {
   "cell_type": "code",
   "execution_count": 98,
   "metadata": {},
   "outputs": [
    {
     "data": {
      "text/plain": [
       "SVC(C=1, random_state=42)"
      ]
     },
     "execution_count": 98,
     "metadata": {},
     "output_type": "execute_result"
    }
   ],
   "source": [
    "svc.fit(X_train,y_train)"
   ]
  },
  {
   "cell_type": "code",
   "execution_count": 99,
   "metadata": {},
   "outputs": [],
   "source": [
    "y_pred_test = svc.predict(X_test)\n",
    "y_pred_train = svc.predict(X_train)"
   ]
  },
  {
   "cell_type": "code",
   "execution_count": 100,
   "metadata": {},
   "outputs": [
    {
     "name": "stdout",
     "output_type": "stream",
     "text": [
      "              precision    recall  f1-score   support\n",
      "\n",
      "           0       1.00      0.59      0.74       179\n",
      "           1       0.00      0.00      0.00         0\n",
      "\n",
      "    accuracy                           0.59       179\n",
      "   macro avg       0.50      0.29      0.37       179\n",
      "weighted avg       1.00      0.59      0.74       179\n",
      "\n"
     ]
    }
   ],
   "source": [
    "print(classification_report(pred_y_test,y_test))"
   ]
  },
  {
   "cell_type": "code",
   "execution_count": 101,
   "metadata": {},
   "outputs": [
    {
     "name": "stdout",
     "output_type": "stream",
     "text": [
      "              precision    recall  f1-score   support\n",
      "\n",
      "           0       0.59      1.00      0.74       105\n",
      "           1       0.00      0.00      0.00        74\n",
      "\n",
      "    accuracy                           0.59       179\n",
      "   macro avg       0.29      0.50      0.37       179\n",
      "weighted avg       0.34      0.59      0.43       179\n",
      "\n"
     ]
    }
   ],
   "source": [
    "print(classification_report(y_test,y_pred_test))"
   ]
  },
  {
   "cell_type": "markdown",
   "metadata": {},
   "source": [
    "# XGB Classification"
   ]
  },
  {
   "cell_type": "code",
   "execution_count": 102,
   "metadata": {},
   "outputs": [],
   "source": [
    "from xgboost import XGBClassifier"
   ]
  },
  {
   "cell_type": "code",
   "execution_count": 103,
   "metadata": {},
   "outputs": [],
   "source": [
    "model = XGBClassifier(objective= \"binary:logistic\",random_state= 42)"
   ]
  },
  {
   "cell_type": "code",
   "execution_count": 104,
   "metadata": {},
   "outputs": [],
   "source": [
    "parameters = { \"colsample_bytree\":np.transpose([x for x in np.arange(0.1,1.1,0.1)]),\"gamma\":np.transpose([x for x in np.arange(0.1,0.6,0.1)]), \"learning_rate\":np.transpose([x for x in np.arange(0.1,0.6,0.1)]),\"min_child_weight\":np.transpose([x for x in np.arange(3,8,1)]),\"max_depth\":np.transpose([x for x in np.arange(2,4,1)]),\"n_estimators\":range(50,70,10)}"
   ]
  },
  {
   "cell_type": "code",
   "execution_count": 105,
   "metadata": {},
   "outputs": [],
   "source": [
    "grid_cv = GridSearchCV(estimator = model,\n",
    "                       param_grid = parameters,\n",
    "                       cv = 5,\n",
    "                       verbose=True,\n",
    "                       n_jobs = -1,\n",
    "                       return_train_score = True,\n",
    "                       scoring = \"f1\"\n",
    "                      )"
   ]
  },
  {
   "cell_type": "code",
   "execution_count": 106,
   "metadata": {},
   "outputs": [],
   "source": [
    "#grid_cv.fit(X,y)"
   ]
  },
  {
   "cell_type": "code",
   "execution_count": 107,
   "metadata": {},
   "outputs": [],
   "source": [
    "#df = pd.DataFrame()\n",
    "#df[\"params\"] = grid_cv.cv_results_[\"params\"]\n",
    "#df[\"mean_test_score\"] = grid_cv.cv_results_[\"mean_test_score\"]\n",
    "#df[\"mean_train_score\"] = grid_cv.cv_results_[\"mean_train_score\"]\n",
    "#df[\"sub\"] = abs(df.mean_train_score.to_numpy()-df.mean_test_score.to_numpy())"
   ]
  },
  {
   "cell_type": "code",
   "execution_count": 108,
   "metadata": {},
   "outputs": [],
   "source": [
    "#df.sort_values(by='sub', ascending=True,inplace=True)\n",
    "#df[:10]"
   ]
  },
  {
   "cell_type": "code",
   "execution_count": 109,
   "metadata": {},
   "outputs": [],
   "source": [
    "#df.params.iloc[0]"
   ]
  },
  {
   "cell_type": "code",
   "execution_count": 110,
   "metadata": {},
   "outputs": [],
   "source": [
    "model = XGBClassifier(objective= \"binary:logistic\",colsample_bytree=  0.7,gamma= 0.1,learning_rate = 0.1,max_depth= 2,min_child_weight= 6,n_estimators=60)"
   ]
  },
  {
   "cell_type": "code",
   "execution_count": 111,
   "metadata": {},
   "outputs": [],
   "source": [
    "\n",
    "X_train, X_test, y_train, y_test = train_test_split(X, y, test_size=0.2, random_state=42)"
   ]
  },
  {
   "cell_type": "code",
   "execution_count": 112,
   "metadata": {},
   "outputs": [
    {
     "name": "stdout",
     "output_type": "stream",
     "text": [
      "<class 'pandas.core.frame.DataFrame'>\n",
      "Int64Index: 712 entries, 331 to 102\n",
      "Data columns (total 11 columns):\n",
      " #   Column       Non-Null Count  Dtype  \n",
      "---  ------       --------------  -----  \n",
      " 0   Pclass       712 non-null    int64  \n",
      " 1   Age          712 non-null    float64\n",
      " 2   SibSp        712 non-null    int64  \n",
      " 3   Parch        712 non-null    int64  \n",
      " 4   Fare         712 non-null    float64\n",
      " 5   is_female    712 non-null    uint8  \n",
      " 6   is_male      712 non-null    uint8  \n",
      " 7   new_ticket   712 non-null    float64\n",
      " 8   Cherbourg    712 non-null    uint8  \n",
      " 9   Queenstown   712 non-null    uint8  \n",
      " 10  Southampton  712 non-null    uint8  \n",
      "dtypes: float64(3), int64(3), uint8(5)\n",
      "memory usage: 42.4 KB\n"
     ]
    }
   ],
   "source": [
    "X_train.info()"
   ]
  },
  {
   "cell_type": "code",
   "execution_count": 113,
   "metadata": {},
   "outputs": [
    {
     "data": {
      "text/plain": [
       "XGBClassifier(base_score=0.5, booster='gbtree', colsample_bylevel=1,\n",
       "              colsample_bynode=1, colsample_bytree=0.7, gamma=0.1, gpu_id=-1,\n",
       "              importance_type='gain', interaction_constraints='',\n",
       "              learning_rate=0.1, max_delta_step=0, max_depth=2,\n",
       "              min_child_weight=6, missing=nan, monotone_constraints='()',\n",
       "              n_estimators=60, n_jobs=0, num_parallel_tree=1, random_state=0,\n",
       "              reg_alpha=0, reg_lambda=1, scale_pos_weight=1, subsample=1,\n",
       "              tree_method='exact', validate_parameters=1, verbosity=None)"
      ]
     },
     "execution_count": 113,
     "metadata": {},
     "output_type": "execute_result"
    }
   ],
   "source": [
    "model.fit(X_train,y_train)"
   ]
  },
  {
   "cell_type": "code",
   "execution_count": 114,
   "metadata": {},
   "outputs": [
    {
     "data": {
      "text/plain": [
       "0.851123595505618"
      ]
     },
     "execution_count": 114,
     "metadata": {},
     "output_type": "execute_result"
    }
   ],
   "source": [
    "model.score(X_train,y_train)"
   ]
  },
  {
   "cell_type": "code",
   "execution_count": 115,
   "metadata": {},
   "outputs": [
    {
     "data": {
      "text/plain": [
       "0.8324022346368715"
      ]
     },
     "execution_count": 115,
     "metadata": {},
     "output_type": "execute_result"
    }
   ],
   "source": [
    "model.score(X_test,y_test)"
   ]
  },
  {
   "cell_type": "code",
   "execution_count": 116,
   "metadata": {},
   "outputs": [],
   "source": [
    "y_pred_test = model.predict(X_test)\n",
    "y_pred_train = model.predict(X_train)"
   ]
  },
  {
   "cell_type": "code",
   "execution_count": 117,
   "metadata": {},
   "outputs": [
    {
     "name": "stdout",
     "output_type": "stream",
     "text": [
      "              precision    recall  f1-score   support\n",
      "\n",
      "           0       0.81      0.93      0.87       105\n",
      "           1       0.88      0.69      0.77        74\n",
      "\n",
      "    accuracy                           0.83       179\n",
      "   macro avg       0.84      0.81      0.82       179\n",
      "weighted avg       0.84      0.83      0.83       179\n",
      "\n"
     ]
    }
   ],
   "source": [
    "\n",
    "\n",
    "print(classification_report(y_test,y_pred_test))"
   ]
  },
  {
   "cell_type": "code",
   "execution_count": 118,
   "metadata": {},
   "outputs": [
    {
     "name": "stdout",
     "output_type": "stream",
     "text": [
      "              precision    recall  f1-score   support\n",
      "\n",
      "           0       0.83      0.96      0.89       444\n",
      "           1       0.91      0.68      0.77       268\n",
      "\n",
      "    accuracy                           0.85       712\n",
      "   macro avg       0.87      0.82      0.83       712\n",
      "weighted avg       0.86      0.85      0.85       712\n",
      "\n"
     ]
    }
   ],
   "source": [
    "print(classification_report(y_train,y_pred_train))"
   ]
  },
  {
   "cell_type": "code",
   "execution_count": 119,
   "metadata": {},
   "outputs": [
    {
     "data": {
      "image/png": "[encoded data removed]",
      "text/plain": [
       "<Figure size 720x360 with 1 Axes>"
      ]
     },
     "metadata": {
      "needs_background": "light"
     },
     "output_type": "display_data"
    }
   ],
   "source": [
    "importance_level = pd.Series(data=model.feature_importances_,\n",
    "                        index= X_train.columns)\n",
    "\n",
    "importance_level_sorted = importance_level.sort_values()\n",
    "plt.figure(figsize=(10,5))\n",
    "importance_level_sorted.plot(kind='barh', color='darkred')\n",
    "plt.title('Importance Level of the Features')\n",
    "plt.show()"
   ]
  },
  {
   "cell_type": "code",
   "execution_count": 120,
   "metadata": {},
   "outputs": [],
   "source": [
    "#joblib"
   ]
  },
  {
   "cell_type": "code",
   "execution_count": 121,
   "metadata": {},
   "outputs": [],
   "source": [
    "import joblib"
   ]
  },
  {
   "cell_type": "code",
   "execution_count": 122,
   "metadata": {},
   "outputs": [
    {
     "data": {
      "text/plain": [
       "['xgb.joblib']"
      ]
     },
     "execution_count": 122,
     "metadata": {},
     "output_type": "execute_result"
    }
   ],
   "source": [
    "joblib.dump(model,\"xgb.joblib\")"
   ]
  },
  {
   "cell_type": "code",
   "execution_count": 123,
   "metadata": {},
   "outputs": [
    {
     "data": {
      "text/plain": [
       "['svc.joblib']"
      ]
     },
     "execution_count": 123,
     "metadata": {},
     "output_type": "execute_result"
    }
   ],
   "source": [
    "joblib.dump(svc,\"svc.joblib\")"
   ]
  },
  {
   "cell_type": "code",
   "execution_count": 124,
   "metadata": {},
   "outputs": [
    {
     "data": {
      "text/plain": [
       "['dt.joblib']"
      ]
     },
     "execution_count": 124,
     "metadata": {},
     "output_type": "execute_result"
    }
   ],
   "source": [
    "joblib.dump(decision_tree,\"dt.joblib\")"
   ]
  },
  {
   "cell_type": "code",
   "execution_count": 125,
   "metadata": {},
   "outputs": [
    {
     "data": {
      "text/plain": [
       "['rf.joblib']"
      ]
     },
     "execution_count": 125,
     "metadata": {},
     "output_type": "execute_result"
    }
   ],
   "source": [
    "joblib.dump(random_forest,\"rf.joblib\")"
   ]
  },
  {
   "cell_type": "code",
   "execution_count": 126,
   "metadata": {},
   "outputs": [
    {
     "data": {
      "text/plain": [
       "['knn.joblib']"
      ]
     },
     "execution_count": 126,
     "metadata": {},
     "output_type": "execute_result"
    }
   ],
   "source": [
    "joblib.dump(knn,\"knn.joblib\")"
   ]
  },
  {
   "cell_type": "code",
   "execution_count": 127,
   "metadata": {},
   "outputs": [
    {
     "data": {
      "text/plain": [
       "['log_reg.joblib']"
      ]
     },
     "execution_count": 127,
     "metadata": {},
     "output_type": "execute_result"
    }
   ],
   "source": [
    "joblib.dump(log_reg,\"log_reg.joblib\")"
   ]
  },
  {
   "cell_type": "code",
   "execution_count": 128,
   "metadata": {},
   "outputs": [
    {
     "data": {
      "text/plain": [
       "['pca.joblib']"
      ]
     },
     "execution_count": 128,
     "metadata": {},
     "output_type": "execute_result"
    }
   ],
   "source": [
    "joblib.dump(pca,\"pca.joblib\")"
   ]
  },
  {
   "cell_type": "code",
   "execution_count": null,
   "metadata": {},
   "outputs": [],
   "source": []
  }
 ],
 "metadata": {
  "kernelspec": {
   "display_name": "Python 3",
   "language": "python",
   "name": "python3"
  },
  "language_info": {
   "codemirror_mode": {
    "name": "ipython",
    "version": 3
   },
   "file_extension": ".py",
   "mimetype": "text/x-python",
   "name": "python",
   "nbconvert_exporter": "python",
   "pygments_lexer": "ipython3",
   "version": "3.8.3"
  }
 },
 "nbformat": 4,
 "nbformat_minor": 4
}
